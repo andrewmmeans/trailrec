{
 "cells": [
  {
   "cell_type": "code",
   "execution_count": 181,
   "metadata": {},
   "outputs": [],
   "source": [
    "import numpy as np\n",
    "import pandas as pd\n",
    "from bs4 import BeautifulSoup\n",
    "from requests import get\n",
    "import re\n",
    "import time"
   ]
  },
  {
   "cell_type": "code",
   "execution_count": 204,
   "metadata": {},
   "outputs": [],
   "source": [
    "# get trail html\n",
    "def get_soup(url):\n",
    "    headers = {'User-Agent':'Mozilla/5.0 (Windows NT 6.1) AppleWebKit/537.36 (KHTML, like Gecko) Chrome/41.0.2228.0 Safari/537.36'}\n",
    "    page = get(url,headers=headers)\n",
    "    soup = BeautifulSoup(page.content, 'html.parser')\n",
    "    return soup"
   ]
  },
  {
   "cell_type": "code",
   "execution_count": 232,
   "metadata": {
    "scrolled": true
   },
   "outputs": [],
   "source": [
    "urlbase = 'https://www.trailforks.com/region/british-columbia/trails/'\n",
    "trail_list_soup = get_soup(urlbase)\n",
    "pagedata = trail_list_soup.find('ul', class_='paging-middle centertext').find_all('li')\n",
    "lastpage = int(pagedata[-1].text)\n",
    "url_list = []\n",
    "for i in np.arange(lastpage):\n",
    "    n = i+1\n",
    "    if n == 1:\n",
    "        url = urlbase\n",
    "    else:\n",
    "        url = urlbase + '?page=' + str(n)\n",
    "    url_list.append(url)"
   ]
  },
  {
   "cell_type": "code",
   "execution_count": 233,
   "metadata": {
    "scrolled": true
   },
   "outputs": [],
   "source": [
    "trail_url = []\n",
    "trail_name = []\n",
    "region_url = []\n",
    "region_name = []\n",
    "for url in url_list:\n",
    "    trail_list_soup = get_soup(url)\n",
    "    all_table_soup = trail_list_soup.find_all('table')\n",
    "    first_table = all_table_soup[0]\n",
    "    trail_name_soup = first_table.tbody.find_all('td',class_='highlight')\n",
    "    region_name_soup = first_table.tbody.find_all('td',class_='nowrap')\n",
    "\n",
    "    for tr in trail_name_soup:\n",
    "        trail_url.append(tr.find('a',href=True)['href'])\n",
    "        trail_name.append(tr.find('a',href=True).text)\n",
    "\n",
    "    for tr in region_name_soup:\n",
    "        region_url.append(tr.find('a',href=True)['href'])\n",
    "        region_name.append(tr.find('a',href=True).text)\n",
    "        time.sleep(np.random.uniform(.5,1.5))\n",
    "\n"
   ]
  },
  {
   "cell_type": "code",
   "execution_count": 248,
   "metadata": {},
   "outputs": [],
   "source": [
    "trail_id = []\n",
    "for trail in trail_url:\n",
    "    trail_id.append(trail.replace('https://www.trailforks.com/trails/','').replace('/',''))\n",
    "\n",
    "df = pd.DataFrame(\n",
    "    {\n",
    "        'trail_id' : trail_id,\n",
    "        'trail_url' : trail_url,\n",
    "        'trail_name' : trail_name,\n",
    "        'region_url' : region_url,\n",
    "        'region_name' : region_name\n",
    "        }\n",
    ")\n",
    "df.set_index('trail_id')\n",
    "df.to_csv('/Users/briangraham/insight/trailrec/data/BC_trail_names')"
   ]
  },
  {
   "cell_type": "code",
   "execution_count": null,
   "metadata": {},
   "outputs": [],
   "source": []
  }
 ],
 "metadata": {
  "kernelspec": {
   "display_name": "Python 3",
   "language": "python",
   "name": "python3"
  },
  "language_info": {
   "codemirror_mode": {
    "name": "ipython",
    "version": 3
   },
   "file_extension": ".py",
   "mimetype": "text/x-python",
   "name": "python",
   "nbconvert_exporter": "python",
   "pygments_lexer": "ipython3",
   "version": "3.7.0"
  }
 },
 "nbformat": 4,
 "nbformat_minor": 2
}
