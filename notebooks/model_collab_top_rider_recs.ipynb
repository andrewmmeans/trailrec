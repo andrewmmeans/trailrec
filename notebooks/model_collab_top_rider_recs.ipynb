{
 "cells": [
  {
   "cell_type": "code",
   "execution_count": 1,
   "metadata": {},
   "outputs": [],
   "source": [
    "import numpy as np\n",
    "import pandas as pd\n",
    "import matplotlib.pyplot as plt"
   ]
  },
  {
   "cell_type": "code",
   "execution_count": 2,
   "metadata": {},
   "outputs": [],
   "source": [
    "df = pd.read_pickle('all_rider_trail_precitions.pickle')"
   ]
  },
  {
   "cell_type": "code",
   "execution_count": 3,
   "metadata": {},
   "outputs": [
    {
     "data": {
      "text/html": [
       "<div>\n",
       "<style scoped>\n",
       "    .dataframe tbody tr th:only-of-type {\n",
       "        vertical-align: middle;\n",
       "    }\n",
       "\n",
       "    .dataframe tbody tr th {\n",
       "        vertical-align: top;\n",
       "    }\n",
       "\n",
       "    .dataframe thead th {\n",
       "        text-align: right;\n",
       "    }\n",
       "</style>\n",
       "<table border=\"1\" class=\"dataframe\">\n",
       "  <thead>\n",
       "    <tr style=\"text-align: right;\">\n",
       "      <th></th>\n",
       "      <th>uid</th>\n",
       "      <th>iid</th>\n",
       "      <th>est</th>\n",
       "      <th>r_ui</th>\n",
       "    </tr>\n",
       "  </thead>\n",
       "  <tbody>\n",
       "    <tr>\n",
       "      <th>0</th>\n",
       "      <td>0-austintatious-0</td>\n",
       "      <td>fool-s-gold-9921</td>\n",
       "      <td>3.095925</td>\n",
       "      <td>2.78538</td>\n",
       "    </tr>\n",
       "    <tr>\n",
       "      <th>1</th>\n",
       "      <td>0-austintatious-0</td>\n",
       "      <td>full-nelson</td>\n",
       "      <td>3.087328</td>\n",
       "      <td>2.78538</td>\n",
       "    </tr>\n",
       "    <tr>\n",
       "      <th>2</th>\n",
       "      <td>0-austintatious-0</td>\n",
       "      <td>lower-27-switchbacks-6850</td>\n",
       "      <td>3.080328</td>\n",
       "      <td>2.78538</td>\n",
       "    </tr>\n",
       "    <tr>\n",
       "      <th>3</th>\n",
       "      <td>0-austintatious-0</td>\n",
       "      <td>pseudotsuga-part-1</td>\n",
       "      <td>3.195570</td>\n",
       "      <td>2.78538</td>\n",
       "    </tr>\n",
       "    <tr>\n",
       "      <th>4</th>\n",
       "      <td>0-austintatious-0</td>\n",
       "      <td>pseudotsuga-part-2</td>\n",
       "      <td>3.192804</td>\n",
       "      <td>2.78538</td>\n",
       "    </tr>\n",
       "  </tbody>\n",
       "</table>\n",
       "</div>"
      ],
      "text/plain": [
       "                 uid                        iid       est     r_ui\n",
       "0  0-austintatious-0           fool-s-gold-9921  3.095925  2.78538\n",
       "1  0-austintatious-0                full-nelson  3.087328  2.78538\n",
       "2  0-austintatious-0  lower-27-switchbacks-6850  3.080328  2.78538\n",
       "3  0-austintatious-0         pseudotsuga-part-1  3.195570  2.78538\n",
       "4  0-austintatious-0         pseudotsuga-part-2  3.192804  2.78538"
      ]
     },
     "execution_count": 3,
     "metadata": {},
     "output_type": "execute_result"
    }
   ],
   "source": [
    "df.head()"
   ]
  },
  {
   "cell_type": "code",
   "execution_count": 4,
   "metadata": {},
   "outputs": [],
   "source": [
    "df['rank'] = df.groupby('uid')['est'].rank(ascending=False)"
   ]
  },
  {
   "cell_type": "code",
   "execution_count": 5,
   "metadata": {},
   "outputs": [],
   "source": [
    "df_top_n = df[df['rank'] <= 10]"
   ]
  },
  {
   "cell_type": "code",
   "execution_count": 6,
   "metadata": {},
   "outputs": [],
   "source": [
    "df_top_n.to_pickle('top_10_rider_recs.pickle')"
   ]
  },
  {
   "cell_type": "code",
   "execution_count": 7,
   "metadata": {},
   "outputs": [
    {
     "data": {
      "text/plain": [
       "<matplotlib.axes._subplots.AxesSubplot at 0x1319ef6a0>"
      ]
     },
     "execution_count": 7,
     "metadata": {},
     "output_type": "execute_result"
    },
    {
     "data": {
      "image/png": "[encoded data removed]",
      "text/plain": [
       "<Figure size 432x288 with 1 Axes>"
      ]
     },
     "metadata": {
      "needs_background": "light"
     },
     "output_type": "display_data"
    }
   ],
   "source": [
    "df_top_n['est'].hist(bins=50)"
   ]
  },
  {
   "cell_type": "code",
   "execution_count": 57,
   "metadata": {},
   "outputs": [
    {
     "data": {
      "text/html": [
       "<div>\n",
       "<style scoped>\n",
       "    .dataframe tbody tr th:only-of-type {\n",
       "        vertical-align: middle;\n",
       "    }\n",
       "\n",
       "    .dataframe tbody tr th {\n",
       "        vertical-align: top;\n",
       "    }\n",
       "\n",
       "    .dataframe thead th {\n",
       "        text-align: right;\n",
       "    }\n",
       "</style>\n",
       "<table border=\"1\" class=\"dataframe\">\n",
       "  <thead>\n",
       "    <tr style=\"text-align: right;\">\n",
       "      <th></th>\n",
       "      <th>uid</th>\n",
       "      <th>iid</th>\n",
       "      <th>est</th>\n",
       "      <th>r_ui</th>\n",
       "      <th>rank</th>\n",
       "    </tr>\n",
       "  </thead>\n",
       "  <tbody>\n",
       "    <tr>\n",
       "      <th>985</th>\n",
       "      <td>0-austintatious-0</td>\n",
       "      <td>teen-spirit</td>\n",
       "      <td>3.554517</td>\n",
       "      <td>2.78538</td>\n",
       "      <td>5.0</td>\n",
       "    </tr>\n",
       "    <tr>\n",
       "      <th>996</th>\n",
       "      <td>0-austintatious-0</td>\n",
       "      <td>lichen-loop</td>\n",
       "      <td>3.564340</td>\n",
       "      <td>2.78538</td>\n",
       "      <td>4.0</td>\n",
       "    </tr>\n",
       "    <tr>\n",
       "      <th>1054</th>\n",
       "      <td>0-austintatious-0</td>\n",
       "      <td>junior-johnson</td>\n",
       "      <td>3.663023</td>\n",
       "      <td>2.78538</td>\n",
       "      <td>2.0</td>\n",
       "    </tr>\n",
       "    <tr>\n",
       "      <th>1055</th>\n",
       "      <td>0-austintatious-0</td>\n",
       "      <td>old-coach-road-59731</td>\n",
       "      <td>3.538154</td>\n",
       "      <td>2.78538</td>\n",
       "      <td>8.0</td>\n",
       "    </tr>\n",
       "    <tr>\n",
       "      <th>1156</th>\n",
       "      <td>0-austintatious-0</td>\n",
       "      <td>arch-potential</td>\n",
       "      <td>3.515138</td>\n",
       "      <td>2.78538</td>\n",
       "      <td>10.0</td>\n",
       "    </tr>\n",
       "  </tbody>\n",
       "</table>\n",
       "</div>"
      ],
      "text/plain": [
       "                    uid                   iid       est     r_ui  rank\n",
       "985   0-austintatious-0           teen-spirit  3.554517  2.78538   5.0\n",
       "996   0-austintatious-0           lichen-loop  3.564340  2.78538   4.0\n",
       "1054  0-austintatious-0        junior-johnson  3.663023  2.78538   2.0\n",
       "1055  0-austintatious-0  old-coach-road-59731  3.538154  2.78538   8.0\n",
       "1156  0-austintatious-0        arch-potential  3.515138  2.78538  10.0"
      ]
     },
     "execution_count": 57,
     "metadata": {},
     "output_type": "execute_result"
    }
   ],
   "source": [
    "df_top_ten = pd.read_pickle('top_10_rider_recs.pickle')\n",
    "df_top_ten.head()"
   ]
  },
  {
   "cell_type": "code",
   "execution_count": 48,
   "metadata": {},
   "outputs": [],
   "source": [
    "user_entry = 'Adrianhamfeldt'"
   ]
  },
  {
   "cell_type": "code",
   "execution_count": 59,
   "metadata": {},
   "outputs": [],
   "source": [
    "def get_recs_collab(df_top_ten,user_entry):\n",
    "    df_user = df_collab[df_collab['uid'] == user_entry]\n",
    "    df_user = df_user.sort_values('rank')\n",
    "    user_recs = df_user['iid']\n",
    "    return user_recs"
   ]
  },
  {
   "cell_type": "code",
   "execution_count": 58,
   "metadata": {},
   "outputs": [
    {
     "data": {
      "text/plain": [
       "270654                    bad-karen\n",
       "269875               junior-johnson\n",
       "269817                  lichen-loop\n",
       "270267              ponderosa-36595\n",
       "270263          gateway-trail-94283\n",
       "270262                    duck-pond\n",
       "271203                greenway-path\n",
       "269821               windfall-2-llt\n",
       "270017         inside-passage-18969\n",
       "270903    northstar-rails-to-trails\n",
       "Name: iid, dtype: category\n",
       "Categories (2718, object): [1-87-dh, 10-dollar, 10-km, 115th-ave-connector, ..., ziggy-8689, zolapalusa-extra-crispy, zoot-allures, zoso]"
      ]
     },
     "execution_count": 58,
     "metadata": {},
     "output_type": "execute_result"
    }
   ],
   "source": [
    "recs = get_collab_recs(df_top_ten,user_entry)\n",
    "recs"
   ]
  },
  {
   "cell_type": "code",
   "execution_count": null,
   "metadata": {},
   "outputs": [],
   "source": []
  }
 ],
 "metadata": {
  "kernelspec": {
   "display_name": "Python 3",
   "language": "python",
   "name": "python3"
  },
  "language_info": {
   "codemirror_mode": {
    "name": "ipython",
    "version": 3
   },
   "file_extension": ".py",
   "mimetype": "text/x-python",
   "name": "python",
   "nbconvert_exporter": "python",
   "pygments_lexer": "ipython3",
   "version": "3.6.6"
  }
 },
 "nbformat": 4,
 "nbformat_minor": 2
}
