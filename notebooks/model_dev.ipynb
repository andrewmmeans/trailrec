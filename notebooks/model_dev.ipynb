{
 "cells": [
  {
   "cell_type": "code",
   "execution_count": 36,
   "metadata": {
    "scrolled": false
   },
   "outputs": [],
   "source": [
    "import numpy as np\n",
    "import pandas as pd\n",
    "import matplotlib.pyplot as plt\n",
    "from sklearn.feature_extraction.text import TfidfVectorizer\n",
    "from sklearn.metrics.pairwise import linear_kernel, cosine_similarity\n",
    "from sklearn.preprocessing import StandardScaler,OneHotEncoder,LabelBinarizer\n",
    "import os\n",
    "import sys\n",
    "module_path = os.path.abspath(os.path.join('/Users/briangraham/insight/trailrec/'))\n",
    "if module_path not in sys.path:\n",
    "    sys.path.append(module_path)\n",
    "import model"
   ]
  },
  {
   "cell_type": "code",
   "execution_count": 12,
   "metadata": {},
   "outputs": [],
   "source": [
    "trail_data,indices = model.get_trail_data()\n",
    "trail_data = model.get_clean_data(trail_data)"
   ]
  },
  {
   "cell_type": "code",
   "execution_count": 30,
   "metadata": {},
   "outputs": [],
   "source": [
    "cosine_sim = model.model_tfidf(trail_data)\n",
    "model.get_recommendations()"
   ]
  },
  {
   "cell_type": "code",
   "execution_count": 5,
   "metadata": {},
   "outputs": [],
   "source": [
    "tfidf = TfidfVectorizer(stop_words='english')\n",
    "tfidf_matrix = tfidf.fit_transform(trail_data['description'])"
   ]
  },
  {
   "cell_type": "code",
   "execution_count": 170,
   "metadata": {
    "scrolled": true
   },
   "outputs": [
    {
     "data": {
      "text/plain": [
       "Index(['index', 'trail_id', 'Altitude change', 'Altitude end', 'Altitude max',\n",
       "       'Altitude min', 'Altitude start', 'Avg reverse time', 'Avg time',\n",
       "       'Bike type', 'Difficulty rating', 'Direction', 'Distance climb',\n",
       "       'Distance down', 'Global Ranking', 'Grade', 'Grade max', 'Grade min',\n",
       "       'Physical rating', 'Ride in rain', 'Riding area', 'TTFs on trail',\n",
       "       'Trail Usage', 'Trail type', 'avg_time', 'city', 'climb', 'descent',\n",
       "       'description', 'distance', 'latitude', 'longitude', 'rating', 'state',\n",
       "       'votes', 'Climb Difficulty', 'Distance flat'],\n",
       "      dtype='object')"
      ]
     },
     "execution_count": 170,
     "metadata": {},
     "output_type": "execute_result"
    }
   ],
   "source": [
    "trail_data.columns"
   ]
  },
  {
   "cell_type": "code",
   "execution_count": 205,
   "metadata": {},
   "outputs": [],
   "source": [
    "trail_data_categorical = trail_data[['Difficulty rating']]"
   ]
  },
  {
   "cell_type": "code",
   "execution_count": 206,
   "metadata": {},
   "outputs": [
    {
     "data": {
      "text/plain": [
       "Difficulty rating    category\n",
       "dtype: object"
      ]
     },
     "execution_count": 206,
     "metadata": {},
     "output_type": "execute_result"
    }
   ],
   "source": [
    "trail_data_categorical = trail_data_categorical.apply(lambda x: x.str.replace(' ',''))\n",
    "for col in trail_data_categorical.columns:\n",
    "    trail_data_categorical[col] = trail_data_categorical[col].astype('category')\n",
    "trail_data_categorical.dtypes"
   ]
  },
  {
   "cell_type": "code",
   "execution_count": 183,
   "metadata": {},
   "outputs": [],
   "source": [
    "trail_data_numerical = trail_data[['Altitude change',\n",
    "    'Altitude end', 'Altitude max','Altitude min',\n",
    "    'Altitude start','Distance climb','Distance down',\n",
    "    'Grade', 'Grade max', 'Grade min',\n",
    "    'climb', 'descent','distance','rating','votes','Distance flat']]"
   ]
  },
  {
   "cell_type": "code",
   "execution_count": 21,
   "metadata": {},
   "outputs": [
    {
     "data": {
      "text/html": [
       "<div>\n",
       "<style scoped>\n",
       "    .dataframe tbody tr th:only-of-type {\n",
       "        vertical-align: middle;\n",
       "    }\n",
       "\n",
       "    .dataframe tbody tr th {\n",
       "        vertical-align: top;\n",
       "    }\n",
       "\n",
       "    .dataframe thead th {\n",
       "        text-align: right;\n",
       "    }\n",
       "</style>\n",
       "<table border=\"1\" class=\"dataframe\">\n",
       "  <thead>\n",
       "    <tr style=\"text-align: right;\">\n",
       "      <th></th>\n",
       "      <th>Altitude change</th>\n",
       "      <th>Altitude end</th>\n",
       "      <th>Altitude max</th>\n",
       "      <th>Altitude min</th>\n",
       "      <th>Altitude start</th>\n",
       "      <th>Distance climb</th>\n",
       "      <th>Distance down</th>\n",
       "      <th>Grade</th>\n",
       "      <th>Grade max</th>\n",
       "      <th>Grade min</th>\n",
       "      <th>climb</th>\n",
       "      <th>descent</th>\n",
       "      <th>distance</th>\n",
       "      <th>rating</th>\n",
       "      <th>votes</th>\n",
       "      <th>Distance flat</th>\n",
       "    </tr>\n",
       "  </thead>\n",
       "  <tbody>\n",
       "    <tr>\n",
       "      <th>0</th>\n",
       "      <td>-1508.0</td>\n",
       "      <td>349</td>\n",
       "      <td>1857.0</td>\n",
       "      <td>349</td>\n",
       "      <td>1857</td>\n",
       "      <td>0.027462</td>\n",
       "      <td>2.000000</td>\n",
       "      <td>-18.592</td>\n",
       "      <td>-318.294</td>\n",
       "      <td>11.070</td>\n",
       "      <td>6</td>\n",
       "      <td>-1513</td>\n",
       "      <td>2.000000</td>\n",
       "      <td>4.55</td>\n",
       "      <td>13</td>\n",
       "      <td>NaN</td>\n",
       "    </tr>\n",
       "    <tr>\n",
       "      <th>1</th>\n",
       "      <td>-191.0</td>\n",
       "      <td>2446</td>\n",
       "      <td>2636.0</td>\n",
       "      <td>2446</td>\n",
       "      <td>2636</td>\n",
       "      <td>0.027462</td>\n",
       "      <td>0.379545</td>\n",
       "      <td>-8.579</td>\n",
       "      <td>-23.766</td>\n",
       "      <td>17.378</td>\n",
       "      <td>24</td>\n",
       "      <td>-215</td>\n",
       "      <td>0.421591</td>\n",
       "      <td>3.50</td>\n",
       "      <td>8</td>\n",
       "      <td>0.014394</td>\n",
       "    </tr>\n",
       "    <tr>\n",
       "      <th>2</th>\n",
       "      <td>-694.0</td>\n",
       "      <td>4931</td>\n",
       "      <td>5625.0</td>\n",
       "      <td>4918</td>\n",
       "      <td>5625</td>\n",
       "      <td>0.065152</td>\n",
       "      <td>0.472727</td>\n",
       "      <td>-24.429</td>\n",
       "      <td>-57.443</td>\n",
       "      <td>9.941</td>\n",
       "      <td>22</td>\n",
       "      <td>-716</td>\n",
       "      <td>0.537879</td>\n",
       "      <td>3.20</td>\n",
       "      <td>5</td>\n",
       "      <td>NaN</td>\n",
       "    </tr>\n",
       "    <tr>\n",
       "      <th>3</th>\n",
       "      <td>-46.0</td>\n",
       "      <td>1054</td>\n",
       "      <td>NaN</td>\n",
       "      <td>1054</td>\n",
       "      <td>1100</td>\n",
       "      <td>0.014583</td>\n",
       "      <td>0.244697</td>\n",
       "      <td>-3.242</td>\n",
       "      <td>-8.697</td>\n",
       "      <td>10.616</td>\n",
       "      <td>8</td>\n",
       "      <td>-54</td>\n",
       "      <td>0.268371</td>\n",
       "      <td>1.00</td>\n",
       "      <td>1</td>\n",
       "      <td>0.009091</td>\n",
       "    </tr>\n",
       "    <tr>\n",
       "      <th>4</th>\n",
       "      <td>-0.0</td>\n",
       "      <td>2638</td>\n",
       "      <td>2638.0</td>\n",
       "      <td>2635</td>\n",
       "      <td>2638</td>\n",
       "      <td>0.014015</td>\n",
       "      <td>0.021780</td>\n",
       "      <td>NaN</td>\n",
       "      <td>-4.765</td>\n",
       "      <td>3.158</td>\n",
       "      <td>3</td>\n",
       "      <td>-3</td>\n",
       "      <td>0.061364</td>\n",
       "      <td>4.00</td>\n",
       "      <td>1</td>\n",
       "      <td>0.012121</td>\n",
       "    </tr>\n",
       "  </tbody>\n",
       "</table>\n",
       "</div>"
      ],
      "text/plain": [
       "   Altitude change  Altitude end  Altitude max  Altitude min  Altitude start  \\\n",
       "0          -1508.0           349        1857.0           349            1857   \n",
       "1           -191.0          2446        2636.0          2446            2636   \n",
       "2           -694.0          4931        5625.0          4918            5625   \n",
       "3            -46.0          1054           NaN          1054            1100   \n",
       "4             -0.0          2638        2638.0          2635            2638   \n",
       "\n",
       "   Distance climb  Distance down   Grade  Grade max  Grade min  climb  \\\n",
       "0        0.027462       2.000000 -18.592   -318.294     11.070      6   \n",
       "1        0.027462       0.379545  -8.579    -23.766     17.378     24   \n",
       "2        0.065152       0.472727 -24.429    -57.443      9.941     22   \n",
       "3        0.014583       0.244697  -3.242     -8.697     10.616      8   \n",
       "4        0.014015       0.021780     NaN     -4.765      3.158      3   \n",
       "\n",
       "   descent  distance  rating  votes  Distance flat  \n",
       "0    -1513  2.000000    4.55     13            NaN  \n",
       "1     -215  0.421591    3.50      8       0.014394  \n",
       "2     -716  0.537879    3.20      5            NaN  \n",
       "3      -54  0.268371    1.00      1       0.009091  \n",
       "4       -3  0.061364    4.00      1       0.012121  "
      ]
     },
     "execution_count": 21,
     "metadata": {},
     "output_type": "execute_result"
    }
   ],
   "source": [
    "trail_data_numerical.head()"
   ]
  },
  {
   "cell_type": "code",
   "execution_count": 49,
   "metadata": {
    "scrolled": false
   },
   "outputs": [
    {
     "data": {
      "text/plain": [
       "Altitude end      0\n",
       "Altitude min      0\n",
       "Altitude start    0\n",
       "Distance climb    2\n",
       "Distance down     0\n",
       "Grade max         0\n",
       "climb             0\n",
       "descent           0\n",
       "distance          0\n",
       "rating            0\n",
       "votes             0\n",
       "dtype: int64"
      ]
     },
     "execution_count": 49,
     "metadata": {},
     "output_type": "execute_result"
    }
   ],
   "source": [
    "trail_data_numerical.isnull().sum()"
   ]
  },
  {
   "cell_type": "code",
   "execution_count": 216,
   "metadata": {},
   "outputs": [],
   "source": [
    "trail_data_numerical = trail_data[['Altitude end','Altitude start',\n",
    "                                   'Grade max','climb', 'descent','distance','rating']]"
   ]
  },
  {
   "cell_type": "code",
   "execution_count": 244,
   "metadata": {
    "scrolled": true
   },
   "outputs": [],
   "source": [
    "from sklearn import preprocessing\n",
    "scaler_num = preprocessing.StandardScaler().fit(trail_data_numerical)\n",
    "df_num_scaled = scaler_num.transform(trail_data_numerical)"
   ]
  },
  {
   "cell_type": "code",
   "execution_count": 245,
   "metadata": {},
   "outputs": [
    {
     "name": "stderr",
     "output_type": "stream",
     "text": [
      "/Users/briangraham/anaconda3/envs/trailrec2/lib/python3.6/site-packages/sklearn/utils/validation.py:475: DataConversionWarning: Data with input dtype int64 was converted to float64 by StandardScaler.\n",
      "  warnings.warn(msg, DataConversionWarning)\n"
     ]
    }
   ],
   "source": [
    "enc = preprocessing.LabelBinarizer().fit(trail_data_categorical)\n",
    "df_diff = enc.transform(trail_data_categorical)\n",
    "scaler_cat = preprocessing.StandardScaler().fit(df_diff)\n",
    "df_diff_scaled = scaler_cat.transform(df_diff)"
   ]
  },
  {
   "cell_type": "code",
   "execution_count": 255,
   "metadata": {},
   "outputs": [
    {
     "data": {
      "text/plain": [
       "array([[0., 0., 0., ..., 0., 0., 0.],\n",
       "       [0., 0., 0., ..., 0., 0., 0.],\n",
       "       [0., 0., 0., ..., 0., 0., 0.],\n",
       "       ...,\n",
       "       [0., 0., 0., ..., 0., 0., 0.],\n",
       "       [0., 0., 0., ..., 0., 0., 0.],\n",
       "       [0., 0., 0., ..., 0., 0., 0.]])"
      ]
     },
     "execution_count": 255,
     "metadata": {},
     "output_type": "execute_result"
    }
   ],
   "source": [
    "tfidf_matrix.toarray()"
   ]
  },
  {
   "cell_type": "code",
   "execution_count": 260,
   "metadata": {
    "scrolled": true
   },
   "outputs": [],
   "source": [
    "all_features = np.concatenate([tfidf_matrix.toarray(),df_diff_scaled,df_num_scaled],axis=1)"
   ]
  },
  {
   "cell_type": "code",
   "execution_count": 261,
   "metadata": {},
   "outputs": [],
   "source": [
    "from sklearn.metrics.pairwise import linear_kernel\n",
    "cosine_sim = linear_kernel(all_features, all_features)"
   ]
  },
  {
   "cell_type": "code",
   "execution_count": 269,
   "metadata": {},
   "outputs": [],
   "source": [
    "reclist,trail_in = model.get_recommendations(trail_data,'verboten',indices,cosine_sim)"
   ]
  },
  {
   "cell_type": "code",
   "execution_count": 2,
   "metadata": {},
   "outputs": [
    {
     "ename": "NameError",
     "evalue": "name 'reclist' is not defined",
     "output_type": "error",
     "traceback": [
      "\u001b[0;31m---------------------------------------------------------------------------\u001b[0m",
      "\u001b[0;31mNameError\u001b[0m                                 Traceback (most recent call last)",
      "\u001b[0;32m<ipython-input-2-cea6e6606ff3>\u001b[0m in \u001b[0;36m<module>\u001b[0;34m()\u001b[0m\n\u001b[0;32m----> 1\u001b[0;31m \u001b[0mreclist\u001b[0m\u001b[0;34m[\u001b[0m\u001b[0;34m[\u001b[0m\u001b[0;34m'trail_id'\u001b[0m\u001b[0;34m,\u001b[0m\u001b[0;34m'description'\u001b[0m\u001b[0;34m]\u001b[0m\u001b[0;34m]\u001b[0m\u001b[0;34m\u001b[0m\u001b[0m\n\u001b[0m",
      "\u001b[0;31mNameError\u001b[0m: name 'reclist' is not defined"
     ]
    }
   ],
   "source": [
    "reclist[['trail_id','description']]"
   ]
  },
  {
   "cell_type": "code",
   "execution_count": 66,
   "metadata": {},
   "outputs": [],
   "source": [
    "# get difficulty\n",
    "trail_data_cat = trail_data[['Difficulty rating']]\n",
    "trail_data_cat = trail_data_cat.apply(lambda x: x.str.replace(' ','')).astype('category')"
   ]
  },
  {
   "cell_type": "code",
   "execution_count": 67,
   "metadata": {},
   "outputs": [],
   "source": [
    "# get numerical data\n",
    "trail_data_numerical = trail_data[['Altitude end','Altitude start',\n",
    "    'Grade max','climb', 'descent','distance','rating']]"
   ]
  },
  {
   "cell_type": "code",
   "execution_count": 68,
   "metadata": {
    "scrolled": true
   },
   "outputs": [],
   "source": [
    "scaler_num = StandardScaler().fit(trail_data_numerical)\n",
    "df_num_scaled = scaler_num.transform(trail_data_numerical)"
   ]
  },
  {
   "cell_type": "code",
   "execution_count": 69,
   "metadata": {},
   "outputs": [
    {
     "name": "stderr",
     "output_type": "stream",
     "text": [
      "/Users/briangraham/anaconda3/envs/trailrec2/lib/python3.6/site-packages/sklearn/utils/validation.py:475: DataConversionWarning: Data with input dtype int64 was converted to float64 by StandardScaler.\n",
      "  warnings.warn(msg, DataConversionWarning)\n"
     ]
    }
   ],
   "source": [
    "enc = LabelBinarizer().fit(trail_data_cat)\n",
    "df_cat = enc.transform(trail_data_cat)\n",
    "scaler_cat = StandardScaler().fit(df_cat)\n",
    "df_cat_scaled = scaler_cat.transform(df_cat)"
   ]
  },
  {
   "cell_type": "code",
   "execution_count": 70,
   "metadata": {},
   "outputs": [],
   "source": [
    "tfidf = TfidfVectorizer(stop_words='english')\n",
    "tfidf_matrix = tfidf.fit_transform(trail_data['description']).toarray()\n",
    "all_features = np.concatenate([tfidf_matrix,df_cat_scaled,df_num_scaled],axis=1)"
   ]
  },
  {
   "cell_type": "code",
   "execution_count": 63,
   "metadata": {},
   "outputs": [
    {
     "data": {
      "text/html": [
       "<div>\n",
       "<style scoped>\n",
       "    .dataframe tbody tr th:only-of-type {\n",
       "        vertical-align: middle;\n",
       "    }\n",
       "\n",
       "    .dataframe tbody tr th {\n",
       "        vertical-align: top;\n",
       "    }\n",
       "\n",
       "    .dataframe thead th {\n",
       "        text-align: right;\n",
       "    }\n",
       "</style>\n",
       "<table border=\"1\" class=\"dataframe\">\n",
       "  <thead>\n",
       "    <tr style=\"text-align: right;\">\n",
       "      <th></th>\n",
       "      <th>trail_id</th>\n",
       "      <th>description</th>\n",
       "    </tr>\n",
       "  </thead>\n",
       "  <tbody>\n",
       "    <tr>\n",
       "      <th>1467</th>\n",
       "      <td>martha-creek-downhill</td>\n",
       "      <td>The trail drops from the tower into some techn...</td>\n",
       "    </tr>\n",
       "    <tr>\n",
       "      <th>1657</th>\n",
       "      <td>north-cinnabar</td>\n",
       "      <td>This trail starts up on the ridge, is lost in ...</td>\n",
       "    </tr>\n",
       "    <tr>\n",
       "      <th>1091</th>\n",
       "      <td>hopeful</td>\n",
       "      <td>Expect hiking traffic.Not part of the main Bik...</td>\n",
       "    </tr>\n",
       "    <tr>\n",
       "      <th>908</th>\n",
       "      <td>g-l-d</td>\n",
       "      <td>Connection from  Goldie Lake to  Hopeful. Use ...</td>\n",
       "    </tr>\n",
       "    <tr>\n",
       "      <th>2509</th>\n",
       "      <td>top-world</td>\n",
       "      <td>The Peak Zone and the new Top of the World alp...</td>\n",
       "    </tr>\n",
       "    <tr>\n",
       "      <th>404</th>\n",
       "      <td>castle-pass-trail</td>\n",
       "      <td>Trail has been reactivated through the efforts...</td>\n",
       "    </tr>\n",
       "    <tr>\n",
       "      <th>773</th>\n",
       "      <td>elbow-pass</td>\n",
       "      <td>River crossing can be problematic during perio...</td>\n",
       "    </tr>\n",
       "    <tr>\n",
       "      <th>116</th>\n",
       "      <td>atlas-shrugged</td>\n",
       "      <td>Did you earn your descent by pedalling to the ...</td>\n",
       "    </tr>\n",
       "    <tr>\n",
       "      <th>408</th>\n",
       "      <td>catapult-ranch</td>\n",
       "      <td>Trail has been built specifically for the Big ...</td>\n",
       "    </tr>\n",
       "    <tr>\n",
       "      <th>2259</th>\n",
       "      <td>south-caribou-pass</td>\n",
       "      <td>The trail to  South Caribou Pass is complete.M...</td>\n",
       "    </tr>\n",
       "  </tbody>\n",
       "</table>\n",
       "</div>"
      ],
      "text/plain": [
       "                   trail_id                                        description\n",
       "1467  martha-creek-downhill  The trail drops from the tower into some techn...\n",
       "1657         north-cinnabar  This trail starts up on the ridge, is lost in ...\n",
       "1091                hopeful  Expect hiking traffic.Not part of the main Bik...\n",
       "908                   g-l-d  Connection from  Goldie Lake to  Hopeful. Use ...\n",
       "2509              top-world  The Peak Zone and the new Top of the World alp...\n",
       "404       castle-pass-trail  Trail has been reactivated through the efforts...\n",
       "773              elbow-pass  River crossing can be problematic during perio...\n",
       "116          atlas-shrugged  Did you earn your descent by pedalling to the ...\n",
       "408          catapult-ranch  Trail has been built specifically for the Big ...\n",
       "2259     south-caribou-pass  The trail to  South Caribou Pass is complete.M..."
      ]
     },
     "execution_count": 63,
     "metadata": {},
     "output_type": "execute_result"
    }
   ],
   "source": [
    "cosine_sim = linear_kernel(all_features, all_features)\n",
    "reclist,trail_in = model.get_recommendations(trail_data,'verboten',indices,cosine_sim)\n",
    "reclist[['trail_id','description']]"
   ]
  },
  {
   "cell_type": "code",
   "execution_count": 64,
   "metadata": {},
   "outputs": [
    {
     "data": {
      "text/html": [
       "<div>\n",
       "<style scoped>\n",
       "    .dataframe tbody tr th:only-of-type {\n",
       "        vertical-align: middle;\n",
       "    }\n",
       "\n",
       "    .dataframe tbody tr th {\n",
       "        vertical-align: top;\n",
       "    }\n",
       "\n",
       "    .dataframe thead th {\n",
       "        text-align: right;\n",
       "    }\n",
       "</style>\n",
       "<table border=\"1\" class=\"dataframe\">\n",
       "  <thead>\n",
       "    <tr style=\"text-align: right;\">\n",
       "      <th></th>\n",
       "      <th>trail_id</th>\n",
       "      <th>description</th>\n",
       "    </tr>\n",
       "  </thead>\n",
       "  <tbody>\n",
       "    <tr>\n",
       "      <th>2216</th>\n",
       "      <td>slunt-sbomb</td>\n",
       "      <td>This trail is probably the longest, flowiest, ...</td>\n",
       "    </tr>\n",
       "    <tr>\n",
       "      <th>382</th>\n",
       "      <td>cabin-trail-wolf-s-den-wolfgangalang-19451</td>\n",
       "      <td>steep, loamy, trail is only 1.5 months old. ro...</td>\n",
       "    </tr>\n",
       "    <tr>\n",
       "      <th>2570</th>\n",
       "      <td>turducken</td>\n",
       "      <td>Beginning at the end of  High Roller, this dow...</td>\n",
       "    </tr>\n",
       "    <tr>\n",
       "      <th>2589</th>\n",
       "      <td>ultimate-frisby-connector</td>\n",
       "      <td>Fast flowy trail with great views and fun chal...</td>\n",
       "    </tr>\n",
       "    <tr>\n",
       "      <th>1217</th>\n",
       "      <td>kashmir-6598</td>\n",
       "      <td>Nearly 10 years old, this now classic technica...</td>\n",
       "    </tr>\n",
       "    <tr>\n",
       "      <th>2743</th>\n",
       "      <td>will-power</td>\n",
       "      <td>This popular trail is a top to bottom single t...</td>\n",
       "    </tr>\n",
       "    <tr>\n",
       "      <th>2571</th>\n",
       "      <td>turnstyles</td>\n",
       "      <td>Bike park in the backcountry. The new big brow...</td>\n",
       "    </tr>\n",
       "    <tr>\n",
       "      <th>2495</th>\n",
       "      <td>today-s-special</td>\n",
       "      <td>A stunning descent from Castle Mountain. Start...</td>\n",
       "    </tr>\n",
       "    <tr>\n",
       "      <th>334</th>\n",
       "      <td>brokeback-ridge</td>\n",
       "      <td>It's pretty unlikely that you would find anyon...</td>\n",
       "    </tr>\n",
       "    <tr>\n",
       "      <th>1912</th>\n",
       "      <td>red-sonja</td>\n",
       "      <td>Epic riding - fun, bermy trail back down to Bu...</td>\n",
       "    </tr>\n",
       "  </tbody>\n",
       "</table>\n",
       "</div>"
      ],
      "text/plain": [
       "                                        trail_id  \\\n",
       "2216                                 slunt-sbomb   \n",
       "382   cabin-trail-wolf-s-den-wolfgangalang-19451   \n",
       "2570                                   turducken   \n",
       "2589                   ultimate-frisby-connector   \n",
       "1217                                kashmir-6598   \n",
       "2743                                  will-power   \n",
       "2571                                  turnstyles   \n",
       "2495                             today-s-special   \n",
       "334                              brokeback-ridge   \n",
       "1912                                   red-sonja   \n",
       "\n",
       "                                            description  \n",
       "2216  This trail is probably the longest, flowiest, ...  \n",
       "382   steep, loamy, trail is only 1.5 months old. ro...  \n",
       "2570  Beginning at the end of  High Roller, this dow...  \n",
       "2589  Fast flowy trail with great views and fun chal...  \n",
       "1217  Nearly 10 years old, this now classic technica...  \n",
       "2743  This popular trail is a top to bottom single t...  \n",
       "2571  Bike park in the backcountry. The new big brow...  \n",
       "2495  A stunning descent from Castle Mountain. Start...  \n",
       "334   It's pretty unlikely that you would find anyon...  \n",
       "1912  Epic riding - fun, bermy trail back down to Bu...  "
      ]
     },
     "execution_count": 64,
     "metadata": {},
     "output_type": "execute_result"
    }
   ],
   "source": [
    "cosine_sim = cosine_similarity(all_features, all_features)\n",
    "reclist,trail_in = model.get_recommendations(trail_data,'verboten',indices,cosine_sim)\n",
    "reclist[['trail_id','description']]"
   ]
  },
  {
   "cell_type": "code",
   "execution_count": null,
   "metadata": {},
   "outputs": [],
   "source": []
  }
 ],
 "metadata": {
  "kernelspec": {
   "display_name": "Python 3",
   "language": "python",
   "name": "python3"
  },
  "language_info": {
   "codemirror_mode": {
    "name": "ipython",
    "version": 3
   },
   "file_extension": ".py",
   "mimetype": "text/x-python",
   "name": "python",
   "nbconvert_exporter": "python",
   "pygments_lexer": "ipython3",
   "version": "3.6.6"
  }
 },
 "nbformat": 4,
 "nbformat_minor": 2
}
