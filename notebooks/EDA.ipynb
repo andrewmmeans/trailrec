{
 "cells": [
  {
   "cell_type": "code",
   "execution_count": 1,
   "metadata": {},
   "outputs": [],
   "source": [
    "import numpy as np\n",
    "import pandas as pd\n",
    "from sqlalchemy import create_engine\n",
    "import psycopg2 \n",
    "import io\n",
    "import matplotlib.pyplot as plt"
   ]
  },
  {
   "cell_type": "markdown",
   "metadata": {},
   "source": [
    "# Trail Metadata"
   ]
  },
  {
   "cell_type": "code",
   "execution_count": 2,
   "metadata": {
    "scrolled": false
   },
   "outputs": [
    {
     "data": {
      "text/html": [
       "<div>\n",
       "<style scoped>\n",
       "    .dataframe tbody tr th:only-of-type {\n",
       "        vertical-align: middle;\n",
       "    }\n",
       "\n",
       "    .dataframe tbody tr th {\n",
       "        vertical-align: top;\n",
       "    }\n",
       "\n",
       "    .dataframe thead th {\n",
       "        text-align: right;\n",
       "    }\n",
       "</style>\n",
       "<table border=\"1\" class=\"dataframe\">\n",
       "  <thead>\n",
       "    <tr style=\"text-align: right;\">\n",
       "      <th></th>\n",
       "      <th>Altitude change</th>\n",
       "      <th>Altitude end</th>\n",
       "      <th>Altitude max</th>\n",
       "      <th>Altitude min</th>\n",
       "      <th>Altitude start</th>\n",
       "      <th>Avg reverse time</th>\n",
       "      <th>Avg time</th>\n",
       "      <th>Bike type</th>\n",
       "      <th>Difficulty rating</th>\n",
       "      <th>Direction</th>\n",
       "      <th>...</th>\n",
       "      <th>Distance flat</th>\n",
       "      <th>Family Friendly</th>\n",
       "      <th>Year Opened</th>\n",
       "      <th>Season</th>\n",
       "      <th>AKA</th>\n",
       "      <th>Land Manager</th>\n",
       "      <th>Voted Difficulty</th>\n",
       "      <th>eBike Allowed</th>\n",
       "      <th>OSM Way</th>\n",
       "      <th>Alpine Trail</th>\n",
       "    </tr>\n",
       "    <tr>\n",
       "      <th>trail_id</th>\n",
       "      <th></th>\n",
       "      <th></th>\n",
       "      <th></th>\n",
       "      <th></th>\n",
       "      <th></th>\n",
       "      <th></th>\n",
       "      <th></th>\n",
       "      <th></th>\n",
       "      <th></th>\n",
       "      <th></th>\n",
       "      <th></th>\n",
       "      <th></th>\n",
       "      <th></th>\n",
       "      <th></th>\n",
       "      <th></th>\n",
       "      <th></th>\n",
       "      <th></th>\n",
       "      <th></th>\n",
       "      <th></th>\n",
       "      <th></th>\n",
       "      <th></th>\n",
       "    </tr>\n",
       "  </thead>\n",
       "  <tbody>\n",
       "    <tr>\n",
       "      <th>1-87-dh</th>\n",
       "      <td>-1,508 ft</td>\n",
       "      <td>349 ft</td>\n",
       "      <td>1,857 ft</td>\n",
       "      <td>349 ft</td>\n",
       "      <td>1,857 ft</td>\n",
       "      <td>00:01:40</td>\n",
       "      <td>00:12:58</td>\n",
       "      <td>DH, AM</td>\n",
       "      <td>Black Diamondrate</td>\n",
       "      <td>Downhill Primary</td>\n",
       "      <td>...</td>\n",
       "      <td>NaN</td>\n",
       "      <td>NaN</td>\n",
       "      <td>NaN</td>\n",
       "      <td>NaN</td>\n",
       "      <td>NaN</td>\n",
       "      <td>NaN</td>\n",
       "      <td>NaN</td>\n",
       "      <td>NaN</td>\n",
       "      <td>NaN</td>\n",
       "      <td>NaN</td>\n",
       "    </tr>\n",
       "    <tr>\n",
       "      <th>10-50</th>\n",
       "      <td>-84 ft</td>\n",
       "      <td>818 ft</td>\n",
       "      <td>904 ft</td>\n",
       "      <td>772 ft</td>\n",
       "      <td>901 ft</td>\n",
       "      <td>00:11:07</td>\n",
       "      <td>00:10:24</td>\n",
       "      <td>XC</td>\n",
       "      <td>Greenrate</td>\n",
       "      <td>Both Directions</td>\n",
       "      <td>...</td>\n",
       "      <td>221 ft</td>\n",
       "      <td>Yes</td>\n",
       "      <td>2017</td>\n",
       "      <td>NaN</td>\n",
       "      <td>NaN</td>\n",
       "      <td>NaN</td>\n",
       "      <td>NaN</td>\n",
       "      <td>NaN</td>\n",
       "      <td>NaN</td>\n",
       "      <td>NaN</td>\n",
       "    </tr>\n",
       "    <tr>\n",
       "      <th>10-dollar</th>\n",
       "      <td>-191 ft</td>\n",
       "      <td>2,446 ft</td>\n",
       "      <td>2,636 ft</td>\n",
       "      <td>2,446 ft</td>\n",
       "      <td>2,636 ft</td>\n",
       "      <td>00:15:47</td>\n",
       "      <td>00:09:03</td>\n",
       "      <td>DH, AM, XC</td>\n",
       "      <td>Bluerate</td>\n",
       "      <td>NaN</td>\n",
       "      <td>...</td>\n",
       "      <td>76 ft</td>\n",
       "      <td>NaN</td>\n",
       "      <td>NaN</td>\n",
       "      <td>NaN</td>\n",
       "      <td>NaN</td>\n",
       "      <td>NaN</td>\n",
       "      <td>NaN</td>\n",
       "      <td>NaN</td>\n",
       "      <td>NaN</td>\n",
       "      <td>NaN</td>\n",
       "    </tr>\n",
       "    <tr>\n",
       "      <th>10-km</th>\n",
       "      <td>-694 ft</td>\n",
       "      <td>4,931 ft</td>\n",
       "      <td>5,625 ft</td>\n",
       "      <td>4,918 ft</td>\n",
       "      <td>5,625 ft</td>\n",
       "      <td>NaN</td>\n",
       "      <td>00:06:44</td>\n",
       "      <td>DH</td>\n",
       "      <td>Black Diamondrate</td>\n",
       "      <td>NaN</td>\n",
       "      <td>...</td>\n",
       "      <td>NaN</td>\n",
       "      <td>NaN</td>\n",
       "      <td>NaN</td>\n",
       "      <td>NaN</td>\n",
       "      <td>NaN</td>\n",
       "      <td>NaN</td>\n",
       "      <td>NaN</td>\n",
       "      <td>NaN</td>\n",
       "      <td>NaN</td>\n",
       "      <td>NaN</td>\n",
       "    </tr>\n",
       "    <tr>\n",
       "      <th>10-licks</th>\n",
       "      <td>135 ft</td>\n",
       "      <td>750 ft</td>\n",
       "      <td>797 ft</td>\n",
       "      <td>614 ft</td>\n",
       "      <td>614 ft</td>\n",
       "      <td>NaN</td>\n",
       "      <td>00:18:47</td>\n",
       "      <td>AM, XC</td>\n",
       "      <td>Bluerate</td>\n",
       "      <td>NaN</td>\n",
       "      <td>...</td>\n",
       "      <td>151 ft</td>\n",
       "      <td>NaN</td>\n",
       "      <td>NaN</td>\n",
       "      <td>NaN</td>\n",
       "      <td>NaN</td>\n",
       "      <td>NaN</td>\n",
       "      <td>NaN</td>\n",
       "      <td>NaN</td>\n",
       "      <td>NaN</td>\n",
       "      <td>NaN</td>\n",
       "    </tr>\n",
       "  </tbody>\n",
       "</table>\n",
       "<p>5 rows × 44 columns</p>\n",
       "</div>"
      ],
      "text/plain": [
       "          Altitude change Altitude end Altitude max Altitude min  \\\n",
       "trail_id                                                           \n",
       "1-87-dh         -1,508 ft       349 ft     1,857 ft       349 ft   \n",
       "10-50              -84 ft       818 ft       904 ft       772 ft   \n",
       "10-dollar         -191 ft     2,446 ft     2,636 ft     2,446 ft   \n",
       "10-km             -694 ft     4,931 ft     5,625 ft     4,918 ft   \n",
       "10-licks           135 ft       750 ft       797 ft       614 ft   \n",
       "\n",
       "          Altitude start Avg reverse time  Avg time   Bike type  \\\n",
       "trail_id                                                          \n",
       "1-87-dh         1,857 ft         00:01:40  00:12:58      DH, AM   \n",
       "10-50             901 ft         00:11:07  00:10:24          XC   \n",
       "10-dollar       2,636 ft         00:15:47  00:09:03  DH, AM, XC   \n",
       "10-km           5,625 ft              NaN  00:06:44          DH   \n",
       "10-licks          614 ft              NaN  00:18:47      AM, XC   \n",
       "\n",
       "           Difficulty rating         Direction     ...      Distance flat  \\\n",
       "trail_id                                           ...                      \n",
       "1-87-dh    Black Diamondrate  Downhill Primary     ...                NaN   \n",
       "10-50              Greenrate   Both Directions     ...             221 ft   \n",
       "10-dollar           Bluerate               NaN     ...              76 ft   \n",
       "10-km      Black Diamondrate               NaN     ...                NaN   \n",
       "10-licks            Bluerate               NaN     ...             151 ft   \n",
       "\n",
       "          Family Friendly Year Opened Season  AKA Land Manager  \\\n",
       "trail_id                                                         \n",
       "1-87-dh               NaN         NaN    NaN  NaN          NaN   \n",
       "10-50                 Yes        2017    NaN  NaN          NaN   \n",
       "10-dollar             NaN         NaN    NaN  NaN          NaN   \n",
       "10-km                 NaN         NaN    NaN  NaN          NaN   \n",
       "10-licks              NaN         NaN    NaN  NaN          NaN   \n",
       "\n",
       "          Voted Difficulty eBike Allowed OSM Way Alpine Trail  \n",
       "trail_id                                                       \n",
       "1-87-dh                NaN           NaN     NaN          NaN  \n",
       "10-50                  NaN           NaN     NaN          NaN  \n",
       "10-dollar              NaN           NaN     NaN          NaN  \n",
       "10-km                  NaN           NaN     NaN          NaN  \n",
       "10-licks               NaN           NaN     NaN          NaN  \n",
       "\n",
       "[5 rows x 44 columns]"
      ]
     },
     "execution_count": 2,
     "metadata": {},
     "output_type": "execute_result"
    }
   ],
   "source": [
    "trail_info = pd.read_pickle('/Users/briangraham/insight/trailrec/data/trail_info_combined.pickle')\n",
    "trail_info.head()"
   ]
  },
  {
   "cell_type": "code",
   "execution_count": 3,
   "metadata": {
    "scrolled": true
   },
   "outputs": [
    {
     "data": {
      "text/plain": [
       "(3935, 44)"
      ]
     },
     "execution_count": 3,
     "metadata": {},
     "output_type": "execute_result"
    }
   ],
   "source": [
    "trail_info.shape"
   ]
  },
  {
   "cell_type": "code",
   "execution_count": 4,
   "metadata": {
    "scrolled": false
   },
   "outputs": [
    {
     "data": {
      "text/html": [
       "<div>\n",
       "<style scoped>\n",
       "    .dataframe tbody tr th:only-of-type {\n",
       "        vertical-align: middle;\n",
       "    }\n",
       "\n",
       "    .dataframe tbody tr th {\n",
       "        vertical-align: top;\n",
       "    }\n",
       "\n",
       "    .dataframe thead th {\n",
       "        text-align: right;\n",
       "    }\n",
       "</style>\n",
       "<table border=\"1\" class=\"dataframe\">\n",
       "  <thead>\n",
       "    <tr style=\"text-align: right;\">\n",
       "      <th></th>\n",
       "      <th>observations</th>\n",
       "      <th>percent_missing</th>\n",
       "    </tr>\n",
       "  </thead>\n",
       "  <tbody>\n",
       "    <tr>\n",
       "      <th>Altitude change</th>\n",
       "      <td>3920</td>\n",
       "      <td>0.381194</td>\n",
       "    </tr>\n",
       "    <tr>\n",
       "      <th>Altitude end</th>\n",
       "      <td>3935</td>\n",
       "      <td>0.000000</td>\n",
       "    </tr>\n",
       "    <tr>\n",
       "      <th>Altitude max</th>\n",
       "      <td>3642</td>\n",
       "      <td>7.445997</td>\n",
       "    </tr>\n",
       "    <tr>\n",
       "      <th>Altitude min</th>\n",
       "      <td>3935</td>\n",
       "      <td>0.000000</td>\n",
       "    </tr>\n",
       "    <tr>\n",
       "      <th>Altitude start</th>\n",
       "      <td>3935</td>\n",
       "      <td>0.000000</td>\n",
       "    </tr>\n",
       "    <tr>\n",
       "      <th>Avg reverse time</th>\n",
       "      <td>2055</td>\n",
       "      <td>47.776366</td>\n",
       "    </tr>\n",
       "    <tr>\n",
       "      <th>Avg time</th>\n",
       "      <td>3642</td>\n",
       "      <td>7.445997</td>\n",
       "    </tr>\n",
       "    <tr>\n",
       "      <th>Bike type</th>\n",
       "      <td>3465</td>\n",
       "      <td>11.944091</td>\n",
       "    </tr>\n",
       "    <tr>\n",
       "      <th>Difficulty rating</th>\n",
       "      <td>3935</td>\n",
       "      <td>0.000000</td>\n",
       "    </tr>\n",
       "    <tr>\n",
       "      <th>Direction</th>\n",
       "      <td>1303</td>\n",
       "      <td>66.886912</td>\n",
       "    </tr>\n",
       "    <tr>\n",
       "      <th>Distance climb</th>\n",
       "      <td>3933</td>\n",
       "      <td>0.050826</td>\n",
       "    </tr>\n",
       "    <tr>\n",
       "      <th>Distance down</th>\n",
       "      <td>3935</td>\n",
       "      <td>0.000000</td>\n",
       "    </tr>\n",
       "    <tr>\n",
       "      <th>Global Ranking</th>\n",
       "      <td>3878</td>\n",
       "      <td>1.448539</td>\n",
       "    </tr>\n",
       "    <tr>\n",
       "      <th>Grade</th>\n",
       "      <td>3317</td>\n",
       "      <td>15.705210</td>\n",
       "    </tr>\n",
       "    <tr>\n",
       "      <th>Grade max</th>\n",
       "      <td>3935</td>\n",
       "      <td>0.000000</td>\n",
       "    </tr>\n",
       "    <tr>\n",
       "      <th>Grade min</th>\n",
       "      <td>3933</td>\n",
       "      <td>0.050826</td>\n",
       "    </tr>\n",
       "    <tr>\n",
       "      <th>Physical rating</th>\n",
       "      <td>2365</td>\n",
       "      <td>39.898348</td>\n",
       "    </tr>\n",
       "    <tr>\n",
       "      <th>Ride in rain</th>\n",
       "      <td>732</td>\n",
       "      <td>81.397713</td>\n",
       "    </tr>\n",
       "    <tr>\n",
       "      <th>Riding area</th>\n",
       "      <td>3934</td>\n",
       "      <td>0.025413</td>\n",
       "    </tr>\n",
       "    <tr>\n",
       "      <th>TTFs on trail</th>\n",
       "      <td>1354</td>\n",
       "      <td>65.590851</td>\n",
       "    </tr>\n",
       "    <tr>\n",
       "      <th>Trail Usage</th>\n",
       "      <td>3390</td>\n",
       "      <td>13.850064</td>\n",
       "    </tr>\n",
       "    <tr>\n",
       "      <th>Trail type</th>\n",
       "      <td>3935</td>\n",
       "      <td>0.000000</td>\n",
       "    </tr>\n",
       "    <tr>\n",
       "      <th>avg_time</th>\n",
       "      <td>3935</td>\n",
       "      <td>0.000000</td>\n",
       "    </tr>\n",
       "    <tr>\n",
       "      <th>city</th>\n",
       "      <td>3935</td>\n",
       "      <td>0.000000</td>\n",
       "    </tr>\n",
       "    <tr>\n",
       "      <th>climb</th>\n",
       "      <td>3935</td>\n",
       "      <td>0.000000</td>\n",
       "    </tr>\n",
       "    <tr>\n",
       "      <th>descent</th>\n",
       "      <td>3935</td>\n",
       "      <td>0.000000</td>\n",
       "    </tr>\n",
       "    <tr>\n",
       "      <th>description</th>\n",
       "      <td>2802</td>\n",
       "      <td>28.792884</td>\n",
       "    </tr>\n",
       "    <tr>\n",
       "      <th>distance</th>\n",
       "      <td>3935</td>\n",
       "      <td>0.000000</td>\n",
       "    </tr>\n",
       "    <tr>\n",
       "      <th>latitude</th>\n",
       "      <td>3935</td>\n",
       "      <td>0.000000</td>\n",
       "    </tr>\n",
       "    <tr>\n",
       "      <th>longitude</th>\n",
       "      <td>3935</td>\n",
       "      <td>0.000000</td>\n",
       "    </tr>\n",
       "    <tr>\n",
       "      <th>rating</th>\n",
       "      <td>3935</td>\n",
       "      <td>0.000000</td>\n",
       "    </tr>\n",
       "    <tr>\n",
       "      <th>state</th>\n",
       "      <td>3935</td>\n",
       "      <td>0.000000</td>\n",
       "    </tr>\n",
       "    <tr>\n",
       "      <th>votes</th>\n",
       "      <td>3935</td>\n",
       "      <td>0.000000</td>\n",
       "    </tr>\n",
       "    <tr>\n",
       "      <th>Climb Difficulty</th>\n",
       "      <td>1847</td>\n",
       "      <td>53.062262</td>\n",
       "    </tr>\n",
       "    <tr>\n",
       "      <th>Distance flat</th>\n",
       "      <td>3397</td>\n",
       "      <td>13.672173</td>\n",
       "    </tr>\n",
       "    <tr>\n",
       "      <th>Family Friendly</th>\n",
       "      <td>94</td>\n",
       "      <td>97.611182</td>\n",
       "    </tr>\n",
       "    <tr>\n",
       "      <th>Year Opened</th>\n",
       "      <td>457</td>\n",
       "      <td>88.386277</td>\n",
       "    </tr>\n",
       "    <tr>\n",
       "      <th>Season</th>\n",
       "      <td>760</td>\n",
       "      <td>80.686150</td>\n",
       "    </tr>\n",
       "    <tr>\n",
       "      <th>AKA</th>\n",
       "      <td>239</td>\n",
       "      <td>93.926302</td>\n",
       "    </tr>\n",
       "    <tr>\n",
       "      <th>Land Manager</th>\n",
       "      <td>652</td>\n",
       "      <td>83.430750</td>\n",
       "    </tr>\n",
       "    <tr>\n",
       "      <th>Voted Difficulty</th>\n",
       "      <td>111</td>\n",
       "      <td>97.179161</td>\n",
       "    </tr>\n",
       "    <tr>\n",
       "      <th>eBike Allowed</th>\n",
       "      <td>678</td>\n",
       "      <td>82.770013</td>\n",
       "    </tr>\n",
       "    <tr>\n",
       "      <th>OSM Way</th>\n",
       "      <td>75</td>\n",
       "      <td>98.094028</td>\n",
       "    </tr>\n",
       "    <tr>\n",
       "      <th>Alpine Trail</th>\n",
       "      <td>35</td>\n",
       "      <td>99.110546</td>\n",
       "    </tr>\n",
       "  </tbody>\n",
       "</table>\n",
       "</div>"
      ],
      "text/plain": [
       "                   observations  percent_missing\n",
       "Altitude change            3920         0.381194\n",
       "Altitude end               3935         0.000000\n",
       "Altitude max               3642         7.445997\n",
       "Altitude min               3935         0.000000\n",
       "Altitude start             3935         0.000000\n",
       "Avg reverse time           2055        47.776366\n",
       "Avg time                   3642         7.445997\n",
       "Bike type                  3465        11.944091\n",
       "Difficulty rating          3935         0.000000\n",
       "Direction                  1303        66.886912\n",
       "Distance climb             3933         0.050826\n",
       "Distance down              3935         0.000000\n",
       "Global Ranking             3878         1.448539\n",
       "Grade                      3317        15.705210\n",
       "Grade max                  3935         0.000000\n",
       "Grade min                  3933         0.050826\n",
       "Physical rating            2365        39.898348\n",
       "Ride in rain                732        81.397713\n",
       "Riding area                3934         0.025413\n",
       "TTFs on trail              1354        65.590851\n",
       "Trail Usage                3390        13.850064\n",
       "Trail type                 3935         0.000000\n",
       "avg_time                   3935         0.000000\n",
       "city                       3935         0.000000\n",
       "climb                      3935         0.000000\n",
       "descent                    3935         0.000000\n",
       "description                2802        28.792884\n",
       "distance                   3935         0.000000\n",
       "latitude                   3935         0.000000\n",
       "longitude                  3935         0.000000\n",
       "rating                     3935         0.000000\n",
       "state                      3935         0.000000\n",
       "votes                      3935         0.000000\n",
       "Climb Difficulty           1847        53.062262\n",
       "Distance flat              3397        13.672173\n",
       "Family Friendly              94        97.611182\n",
       "Year Opened                 457        88.386277\n",
       "Season                      760        80.686150\n",
       "AKA                         239        93.926302\n",
       "Land Manager                652        83.430750\n",
       "Voted Difficulty            111        97.179161\n",
       "eBike Allowed               678        82.770013\n",
       "OSM Way                      75        98.094028\n",
       "Alpine Trail                 35        99.110546"
      ]
     },
     "execution_count": 4,
     "metadata": {},
     "output_type": "execute_result"
    }
   ],
   "source": [
    "percent_missing = trail_info.isnull().sum()/trail_info.shape[0]*100\n",
    "observations = trail_info.notnull().sum()\n",
    "trail_info_observation_stats = pd.DataFrame({'observations':observations,'percent_missing':percent_missing})\n",
    "trail_info_observation_stats"
   ]
  },
  {
   "cell_type": "code",
   "execution_count": 45,
   "metadata": {},
   "outputs": [
    {
     "data": {
      "image/png": "[encoded data removed]",
      "text/plain": [
       "<Figure size 360x216 with 1 Axes>"
      ]
     },
     "metadata": {},
     "output_type": "display_data"
    }
   ],
   "source": [
    "# Amount of words in descriptions\n",
    "# 28% of ~4k files were missing descriptions\n",
    "description_length = trail_info['description'].str.len()\n",
    "description_length = trail_info['description'].str.count(' ')\n",
    "description_length[description_length<200].hist(bins = 100,figsize=(5,3))\n",
    "plt.xlabel('Words in Description')\n",
    "plt.ylabel('Number of Trails')\n",
    "plt.title('Trails vs Description Length')\n",
    "plt.tight_layout()\n",
    "plt.savefig('hist_words_per_trail_description.png')"
   ]
  },
  {
   "cell_type": "markdown",
   "metadata": {},
   "source": [
    "# Comment Data "
   ]
  },
  {
   "cell_type": "code",
   "execution_count": 6,
   "metadata": {},
   "outputs": [
    {
     "data": {
      "text/plain": [
       "(1848, 3)"
      ]
     },
     "execution_count": 6,
     "metadata": {},
     "output_type": "execute_result"
    }
   ],
   "source": [
    "comment_info = pd.read_pickle('/Users/briangraham/insight/trailrec/data/trail_comments_combined.pickle')\n",
    "comment_info.shape"
   ]
  },
  {
   "cell_type": "code",
   "execution_count": 7,
   "metadata": {},
   "outputs": [
    {
     "data": {
      "text/plain": [
       "Text(0.5,1,'Distribution of number of comments')"
      ]
     },
     "execution_count": 7,
     "metadata": {},
     "output_type": "execute_result"
    },
    {
     "data": {
      "image/png": "[encoded data removed]",
      "text/plain": [
       "<Figure size 1152x288 with 1 Axes>"
      ]
     },
     "metadata": {},
     "output_type": "display_data"
    }
   ],
   "source": [
    "comment_count = comment_info.groupby('trail_id').count()\n",
    "comment_count['comment_text'].hist(figsize=(16,4))\n",
    "plt.xlabel('number of comments')\n",
    "plt.ylabel('count')\n",
    "plt.title('Distribution of number of comments')"
   ]
  },
  {
   "cell_type": "markdown",
   "metadata": {},
   "source": [
    "# Ridelog Data"
   ]
  },
  {
   "cell_type": "code",
   "execution_count": 8,
   "metadata": {},
   "outputs": [],
   "source": [
    "ridelogs = pd.read_pickle('/Users/briangraham/insight/trailrec/data/trail_ridelogs_combined.pickle')"
   ]
  },
  {
   "cell_type": "code",
   "execution_count": 9,
   "metadata": {},
   "outputs": [
    {
     "data": {
      "text/html": [
       "<div>\n",
       "<style scoped>\n",
       "    .dataframe tbody tr th:only-of-type {\n",
       "        vertical-align: middle;\n",
       "    }\n",
       "\n",
       "    .dataframe tbody tr th {\n",
       "        vertical-align: top;\n",
       "    }\n",
       "\n",
       "    .dataframe thead th {\n",
       "        text-align: right;\n",
       "    }\n",
       "</style>\n",
       "<table border=\"1\" class=\"dataframe\">\n",
       "  <thead>\n",
       "    <tr style=\"text-align: right;\">\n",
       "      <th></th>\n",
       "      <th>ride_date</th>\n",
       "      <th>rider_url</th>\n",
       "      <th>rider_name</th>\n",
       "      <th>rider_state</th>\n",
       "      <th>rider_city</th>\n",
       "      <th>ride_difficulty_string</th>\n",
       "    </tr>\n",
       "    <tr>\n",
       "      <th>trail_id</th>\n",
       "      <th></th>\n",
       "      <th></th>\n",
       "      <th></th>\n",
       "      <th></th>\n",
       "      <th></th>\n",
       "      <th></th>\n",
       "    </tr>\n",
       "  </thead>\n",
       "  <tbody>\n",
       "    <tr>\n",
       "      <th>zoso</th>\n",
       "      <td>Jul 16, 2016</td>\n",
       "      <td>https://www.trailforks.com/profile/remoh/</td>\n",
       "      <td>remoh</td>\n",
       "      <td>BC</td>\n",
       "      <td>Victoria</td>\n",
       "      <td>Very Difficult / Black Diamond</td>\n",
       "    </tr>\n",
       "    <tr>\n",
       "      <th>zoso</th>\n",
       "      <td>Jul 15, 2016</td>\n",
       "      <td>https://www.trailforks.com/profile/tbryn/</td>\n",
       "      <td>tbryn</td>\n",
       "      <td>BC</td>\n",
       "      <td>Victoria</td>\n",
       "      <td>Intermediate / Blue Square</td>\n",
       "    </tr>\n",
       "    <tr>\n",
       "      <th>zoso</th>\n",
       "      <td>Jul 6, 2016</td>\n",
       "      <td>https://www.trailforks.com/profile/skenny1/</td>\n",
       "      <td>skenny1</td>\n",
       "      <td>BC</td>\n",
       "      <td>Victoria</td>\n",
       "      <td>Intermediate / Blue Square</td>\n",
       "    </tr>\n",
       "    <tr>\n",
       "      <th>zoso</th>\n",
       "      <td>Jul 5, 2016</td>\n",
       "      <td>https://www.trailforks.com/profile/highrocker1...</td>\n",
       "      <td>highrocker1298</td>\n",
       "      <td>BC</td>\n",
       "      <td>Victoria</td>\n",
       "      <td>Intermediate / Blue Square</td>\n",
       "    </tr>\n",
       "    <tr>\n",
       "      <th>zoso</th>\n",
       "      <td>Aug 30, 2015</td>\n",
       "      <td>https://www.trailforks.com/profile/katerodoruk/</td>\n",
       "      <td>katerodoruk</td>\n",
       "      <td>BC</td>\n",
       "      <td>Victoria</td>\n",
       "      <td>Intermediate / Blue Square</td>\n",
       "    </tr>\n",
       "  </tbody>\n",
       "</table>\n",
       "</div>"
      ],
      "text/plain": [
       "             ride_date                                          rider_url  \\\n",
       "trail_id                                                                    \n",
       "zoso      Jul 16, 2016          https://www.trailforks.com/profile/remoh/   \n",
       "zoso      Jul 15, 2016          https://www.trailforks.com/profile/tbryn/   \n",
       "zoso       Jul 6, 2016        https://www.trailforks.com/profile/skenny1/   \n",
       "zoso       Jul 5, 2016  https://www.trailforks.com/profile/highrocker1...   \n",
       "zoso      Aug 30, 2015    https://www.trailforks.com/profile/katerodoruk/   \n",
       "\n",
       "              rider_name rider_state rider_city  \\\n",
       "trail_id                                          \n",
       "zoso               remoh          BC   Victoria   \n",
       "zoso               tbryn          BC   Victoria   \n",
       "zoso             skenny1          BC   Victoria   \n",
       "zoso      highrocker1298          BC   Victoria   \n",
       "zoso         katerodoruk          BC   Victoria   \n",
       "\n",
       "                  ride_difficulty_string  \n",
       "trail_id                                  \n",
       "zoso      Very Difficult / Black Diamond  \n",
       "zoso          Intermediate / Blue Square  \n",
       "zoso          Intermediate / Blue Square  \n",
       "zoso          Intermediate / Blue Square  \n",
       "zoso          Intermediate / Blue Square  "
      ]
     },
     "execution_count": 9,
     "metadata": {},
     "output_type": "execute_result"
    }
   ],
   "source": [
    "ridelogs.tail()"
   ]
  },
  {
   "cell_type": "code",
   "execution_count": 10,
   "metadata": {},
   "outputs": [
    {
     "data": {
      "text/plain": [
       "(1589860, 6)"
      ]
     },
     "execution_count": 10,
     "metadata": {},
     "output_type": "execute_result"
    }
   ],
   "source": [
    "ridelog_count = ridelogs.groupby('trail_id').count()\n",
    "ridelogs.shape"
   ]
  },
  {
   "cell_type": "code",
   "execution_count": 11,
   "metadata": {},
   "outputs": [
    {
     "data": {
      "text/plain": [
       "Text(0.5,1,'Distribution of number of number of rides per trail')"
      ]
     },
     "execution_count": 11,
     "metadata": {},
     "output_type": "execute_result"
    },
    {
     "data": {
      "image/png": "[encoded data removed]",
      "text/plain": [
       "<Figure size 1152x288 with 1 Axes>"
      ]
     },
     "metadata": {},
     "output_type": "display_data"
    }
   ],
   "source": [
    "ridelog_count['ride_date'].hist(bins = 200,figsize=(16,4))\n",
    "plt.xlabel('number of rides')\n",
    "plt.ylabel('count')\n",
    "plt.title('Distribution of number of number of rides per trail')"
   ]
  },
  {
   "cell_type": "code",
   "execution_count": 12,
   "metadata": {},
   "outputs": [
    {
     "data": {
      "text/plain": [
       "(0, 2000)"
      ]
     },
     "execution_count": 12,
     "metadata": {},
     "output_type": "execute_result"
    },
    {
     "data": {
      "image/png": "[encoded data removed]",
      "text/plain": [
       "<Figure size 1152x288 with 1 Axes>"
      ]
     },
     "metadata": {},
     "output_type": "display_data"
    }
   ],
   "source": [
    "ridelog_count['ride_date'].hist(bins = 200,figsize=(16,4))\n",
    "plt.xlabel('number of rides')\n",
    "plt.ylabel('count')\n",
    "plt.title('Distribution of number of number of rides per trail')\n",
    "plt.xlim([0,2000])"
   ]
  },
  {
   "cell_type": "code",
   "execution_count": 13,
   "metadata": {},
   "outputs": [
    {
     "data": {
      "text/plain": [
       "Text(0.5,1,'Distribution of rides by riders')"
      ]
     },
     "execution_count": 13,
     "metadata": {},
     "output_type": "execute_result"
    },
    {
     "data": {
      "image/png": "[encoded data removed]",
      "text/plain": [
       "<Figure size 1152x288 with 1 Axes>"
      ]
     },
     "metadata": {},
     "output_type": "display_data"
    }
   ],
   "source": [
    "rider_count = ridelogs.groupby('rider_name').count()\n",
    "rider_count['ride_date'].hist(bins = 500,figsize=(16,4))\n",
    "plt.xlabel('number of rides')\n",
    "plt.ylabel('count')\n",
    "plt.title('Distribution of rides by riders')"
   ]
  },
  {
   "cell_type": "code",
   "execution_count": 14,
   "metadata": {},
   "outputs": [
    {
     "data": {
      "text/plain": [
       "(0, 2000)"
      ]
     },
     "execution_count": 14,
     "metadata": {},
     "output_type": "execute_result"
    },
    {
     "data": {
      "image/png": "[encoded data removed]",
      "text/plain": [
       "<Figure size 1152x288 with 1 Axes>"
      ]
     },
     "metadata": {},
     "output_type": "display_data"
    }
   ],
   "source": [
    "rider_count = ridelogs.groupby('rider_name').count()\n",
    "rider_count['ride_date'].hist(bins = 500,figsize=(16,4))\n",
    "plt.xlabel('number of rides')\n",
    "plt.ylabel('count')\n",
    "plt.title('Distribution of rides by riders')\n",
    "plt.xlim([0,2000])"
   ]
  },
  {
   "cell_type": "code",
   "execution_count": 15,
   "metadata": {},
   "outputs": [],
   "source": [
    "df_rides = ridelogs[['ride_date','rider_name']]\n",
    "unique_rides = df_rides.reset_index().groupby('rider_name').nunique().sort_values('trail_id',ascending=False)"
   ]
  },
  {
   "cell_type": "code",
   "execution_count": 16,
   "metadata": {},
   "outputs": [
    {
     "data": {
      "text/html": [
       "<div>\n",
       "<style scoped>\n",
       "    .dataframe tbody tr th:only-of-type {\n",
       "        vertical-align: middle;\n",
       "    }\n",
       "\n",
       "    .dataframe tbody tr th {\n",
       "        vertical-align: top;\n",
       "    }\n",
       "\n",
       "    .dataframe thead th {\n",
       "        text-align: right;\n",
       "    }\n",
       "</style>\n",
       "<table border=\"1\" class=\"dataframe\">\n",
       "  <thead>\n",
       "    <tr style=\"text-align: right;\">\n",
       "      <th></th>\n",
       "      <th>trail_id</th>\n",
       "      <th>ride_date</th>\n",
       "      <th>rider_name</th>\n",
       "    </tr>\n",
       "    <tr>\n",
       "      <th>rider_name</th>\n",
       "      <th></th>\n",
       "      <th></th>\n",
       "      <th></th>\n",
       "    </tr>\n",
       "  </thead>\n",
       "  <tbody>\n",
       "    <tr>\n",
       "      <th>canadaka</th>\n",
       "      <td>1076</td>\n",
       "      <td>762</td>\n",
       "      <td>1</td>\n",
       "    </tr>\n",
       "    <tr>\n",
       "      <th>BCpov</th>\n",
       "      <td>904</td>\n",
       "      <td>564</td>\n",
       "      <td>1</td>\n",
       "    </tr>\n",
       "    <tr>\n",
       "      <th>DoubleDog</th>\n",
       "      <td>724</td>\n",
       "      <td>672</td>\n",
       "      <td>1</td>\n",
       "    </tr>\n",
       "    <tr>\n",
       "      <th>campasternak</th>\n",
       "      <td>690</td>\n",
       "      <td>370</td>\n",
       "      <td>1</td>\n",
       "    </tr>\n",
       "    <tr>\n",
       "      <th>Sniper593</th>\n",
       "      <td>683</td>\n",
       "      <td>334</td>\n",
       "      <td>1</td>\n",
       "    </tr>\n",
       "  </tbody>\n",
       "</table>\n",
       "</div>"
      ],
      "text/plain": [
       "              trail_id  ride_date  rider_name\n",
       "rider_name                                   \n",
       "canadaka          1076        762           1\n",
       "BCpov              904        564           1\n",
       "DoubleDog          724        672           1\n",
       "campasternak       690        370           1\n",
       "Sniper593          683        334           1"
      ]
     },
     "execution_count": 16,
     "metadata": {},
     "output_type": "execute_result"
    }
   ],
   "source": [
    "unique_rides.head()"
   ]
  },
  {
   "cell_type": "code",
   "execution_count": 40,
   "metadata": {},
   "outputs": [
    {
     "data": {
      "image/png": "[encoded data removed]",
      "text/plain": [
       "<Figure size 360x216 with 1 Axes>"
      ]
     },
     "metadata": {},
     "output_type": "display_data"
    }
   ],
   "source": [
    "unique_rides[unique_rides['trail_id'] < 200 ].hist(column='trail_id',bins=100,figsize = (5,3))\n",
    "plt.xlabel('Unique Trails')\n",
    "plt.ylabel('Unique Rideers')\n",
    "plt.title('Trails Ridden by Rider')\n",
    "plt.tight_layout()\n",
    "plt.savefig('hist_rider_trail.png')"
   ]
  },
  {
   "cell_type": "code",
   "execution_count": 18,
   "metadata": {},
   "outputs": [
    {
     "data": {
      "text/plain": [
       "2757"
      ]
     },
     "execution_count": 18,
     "metadata": {},
     "output_type": "execute_result"
    }
   ],
   "source": [
    "# Number of riders with more than 50 unique trails\n",
    "np.sum([unique_rides['trail_id'] > 50])"
   ]
  },
  {
   "cell_type": "code",
   "execution_count": 19,
   "metadata": {},
   "outputs": [
    {
     "data": {
      "text/plain": [
       "4902"
      ]
     },
     "execution_count": 19,
     "metadata": {},
     "output_type": "execute_result"
    }
   ],
   "source": [
    "# Number of riders with more than 20 unique trails\n",
    "np.sum([unique_rides['trail_id'] > 20])"
   ]
  },
  {
   "cell_type": "code",
   "execution_count": 20,
   "metadata": {},
   "outputs": [
    {
     "data": {
      "text/plain": [
       "6426"
      ]
     },
     "execution_count": 20,
     "metadata": {},
     "output_type": "execute_result"
    }
   ],
   "source": [
    "# Number of riders with more than 10 unique trails\n",
    "np.sum([unique_rides['trail_id'] > 10])"
   ]
  },
  {
   "cell_type": "code",
   "execution_count": null,
   "metadata": {},
   "outputs": [],
   "source": []
  }
 ],
 "metadata": {
  "kernelspec": {
   "display_name": "Python 3",
   "language": "python",
   "name": "python3"
  },
  "language_info": {
   "codemirror_mode": {
    "name": "ipython",
    "version": 3
   },
   "file_extension": ".py",
   "mimetype": "text/x-python",
   "name": "python",
   "nbconvert_exporter": "python",
   "pygments_lexer": "ipython3",
   "version": "3.7.0"
  }
 },
 "nbformat": 4,
 "nbformat_minor": 2
}
