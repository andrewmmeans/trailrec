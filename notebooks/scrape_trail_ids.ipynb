{
 "cells": [
  {
   "cell_type": "code",
   "execution_count": 25,
   "metadata": {},
   "outputs": [],
   "source": [
    "import numpy as np\n",
    "import pandas as pd\n",
    "from bs4 import BeautifulSoup\n",
    "from requests import get\n",
    "import re\n",
    "import json\n",
    "import random\n",
    "import time\n",
    "from sqlalchemy import create_engine\n",
    "from sqlalchemy_utils import database_exists, create_database\n",
    "import psycopg2 \n",
    "import io"
   ]
  },
  {
   "cell_type": "code",
   "execution_count": 15,
   "metadata": {},
   "outputs": [],
   "source": [
    "def get_trail_data():\n",
    "    # Query SQL trail table\n",
    "    conn = psycopg2.connect(\"host=localhost dbname=trailrec user=briangraham\")\n",
    "    cur = conn.cursor()\n",
    "    sql_query = \"\"\"\n",
    "    SELECT * FROM trails;\n",
    "    \"\"\"\n",
    "    trail_data = pd.read_sql_query(sql_query,conn)\n",
    "    \n",
    "    #reset indices\n",
    "    trail_data = trail_data.reset_index()\n",
    "    # reverse map trail names to indices\n",
    "    indices = pd.Series(trail_data.index, index=trail_data['trail_id'])\n",
    "    \n",
    "    return trail_data,indices"
   ]
  },
  {
   "cell_type": "code",
   "execution_count": 16,
   "metadata": {},
   "outputs": [],
   "source": [
    "def get_soup(url):\n",
    "    headers = {'User-Agent':'Mozilla/5.0 (Windows NT 6.1) AppleWebKit/537.36 (KHTML, like Gecko) Chrome/41.0.2228.0 Safari/537.36'}\n",
    "    page = get(url,headers=headers)\n",
    "    soup = BeautifulSoup(page.content, 'html.parser')\n",
    "    return soup"
   ]
  },
  {
   "cell_type": "code",
   "execution_count": 39,
   "metadata": {},
   "outputs": [],
   "source": [
    "def find_id(href):\n",
    "    return href and re.compile(\"trailid=\").search(href)"
   ]
  },
  {
   "cell_type": "code",
   "execution_count": 66,
   "metadata": {},
   "outputs": [
    {
     "data": {
      "text/html": [
       "<div>\n",
       "<style scoped>\n",
       "    .dataframe tbody tr th:only-of-type {\n",
       "        vertical-align: middle;\n",
       "    }\n",
       "\n",
       "    .dataframe tbody tr th {\n",
       "        vertical-align: top;\n",
       "    }\n",
       "\n",
       "    .dataframe thead th {\n",
       "        text-align: right;\n",
       "    }\n",
       "</style>\n",
       "<table border=\"1\" class=\"dataframe\">\n",
       "  <thead>\n",
       "    <tr style=\"text-align: right;\">\n",
       "      <th></th>\n",
       "      <th>index</th>\n",
       "      <th>trail_id</th>\n",
       "      <th>Altitude change</th>\n",
       "      <th>Altitude end</th>\n",
       "      <th>Altitude max</th>\n",
       "      <th>Altitude min</th>\n",
       "      <th>Altitude start</th>\n",
       "      <th>Avg reverse time</th>\n",
       "      <th>Avg time</th>\n",
       "      <th>Bike type</th>\n",
       "      <th>...</th>\n",
       "      <th>description</th>\n",
       "      <th>distance</th>\n",
       "      <th>latitude</th>\n",
       "      <th>longitude</th>\n",
       "      <th>rating</th>\n",
       "      <th>state</th>\n",
       "      <th>votes</th>\n",
       "      <th>Climb Difficulty</th>\n",
       "      <th>Distance flat</th>\n",
       "      <th>trail_num</th>\n",
       "    </tr>\n",
       "  </thead>\n",
       "  <tbody>\n",
       "    <tr>\n",
       "      <th>0</th>\n",
       "      <td>0</td>\n",
       "      <td>1-87-dh</td>\n",
       "      <td>-1,508 ft</td>\n",
       "      <td>349 ft</td>\n",
       "      <td>1,857 ft</td>\n",
       "      <td>349 ft</td>\n",
       "      <td>1,857 ft</td>\n",
       "      <td>00:01:40</td>\n",
       "      <td>00:12:58</td>\n",
       "      <td>DH, AM</td>\n",
       "      <td>...</td>\n",
       "      <td>Sustained steep and fast DH trail often used a...</td>\n",
       "      <td>2 miles</td>\n",
       "      <td>48.82592</td>\n",
       "      <td>-123.762540</td>\n",
       "      <td>4.55</td>\n",
       "      <td>BC</td>\n",
       "      <td>13</td>\n",
       "      <td>None</td>\n",
       "      <td>None</td>\n",
       "      <td>None</td>\n",
       "    </tr>\n",
       "    <tr>\n",
       "      <th>1</th>\n",
       "      <td>1</td>\n",
       "      <td>10-dollar</td>\n",
       "      <td>-191 ft</td>\n",
       "      <td>2,446 ft</td>\n",
       "      <td>2,636 ft</td>\n",
       "      <td>2,446 ft</td>\n",
       "      <td>2,636 ft</td>\n",
       "      <td>00:15:47</td>\n",
       "      <td>00:09:03</td>\n",
       "      <td>DH, AM, XC</td>\n",
       "      <td>...</td>\n",
       "      <td>One of the original Pidherny trails.</td>\n",
       "      <td>2,226 ft</td>\n",
       "      <td>53.98968</td>\n",
       "      <td>-122.846810</td>\n",
       "      <td>3.50</td>\n",
       "      <td>BC</td>\n",
       "      <td>8</td>\n",
       "      <td>None</td>\n",
       "      <td>76 ft</td>\n",
       "      <td>None</td>\n",
       "    </tr>\n",
       "    <tr>\n",
       "      <th>2</th>\n",
       "      <td>2</td>\n",
       "      <td>10-km</td>\n",
       "      <td>-694 ft</td>\n",
       "      <td>4,931 ft</td>\n",
       "      <td>5,625 ft</td>\n",
       "      <td>4,918 ft</td>\n",
       "      <td>5,625 ft</td>\n",
       "      <td>None</td>\n",
       "      <td>00:06:44</td>\n",
       "      <td>DH</td>\n",
       "      <td>...</td>\n",
       "      <td>The 10K trail is a good early season starting ...</td>\n",
       "      <td>2,840 ft</td>\n",
       "      <td>51.28040</td>\n",
       "      <td>-116.893354</td>\n",
       "      <td>3.20</td>\n",
       "      <td>BC</td>\n",
       "      <td>5</td>\n",
       "      <td>None</td>\n",
       "      <td>None</td>\n",
       "      <td>None</td>\n",
       "    </tr>\n",
       "    <tr>\n",
       "      <th>3</th>\n",
       "      <td>3</td>\n",
       "      <td>115th-ave-connector</td>\n",
       "      <td>-46 ft</td>\n",
       "      <td>1,054 ft</td>\n",
       "      <td>None</td>\n",
       "      <td>1,054 ft</td>\n",
       "      <td>1,100 ft</td>\n",
       "      <td>None</td>\n",
       "      <td>None</td>\n",
       "      <td>XC</td>\n",
       "      <td>...</td>\n",
       "      <td>Short connector to access the  Osoyoos Canal.</td>\n",
       "      <td>1,417 ft</td>\n",
       "      <td>49.03372</td>\n",
       "      <td>-119.488330</td>\n",
       "      <td>1.00</td>\n",
       "      <td>BC</td>\n",
       "      <td>1</td>\n",
       "      <td>Green</td>\n",
       "      <td>48 ft</td>\n",
       "      <td>None</td>\n",
       "    </tr>\n",
       "    <tr>\n",
       "      <th>4</th>\n",
       "      <td>4</td>\n",
       "      <td>147</td>\n",
       "      <td>-0 ft</td>\n",
       "      <td>2,638 ft</td>\n",
       "      <td>2,638 ft</td>\n",
       "      <td>2,635 ft</td>\n",
       "      <td>2,638 ft</td>\n",
       "      <td>00:07:23</td>\n",
       "      <td>00:01:17</td>\n",
       "      <td>DH, AM, Fat</td>\n",
       "      <td>...</td>\n",
       "      <td>Short, technical trail that connects The Swamp...</td>\n",
       "      <td>324 ft</td>\n",
       "      <td>53.87815</td>\n",
       "      <td>-122.828430</td>\n",
       "      <td>4.00</td>\n",
       "      <td>BC</td>\n",
       "      <td>1</td>\n",
       "      <td>Green</td>\n",
       "      <td>64 ft</td>\n",
       "      <td>None</td>\n",
       "    </tr>\n",
       "  </tbody>\n",
       "</table>\n",
       "<p>5 rows × 38 columns</p>\n",
       "</div>"
      ],
      "text/plain": [
       "   index             trail_id Altitude change Altitude end Altitude max  \\\n",
       "0      0              1-87-dh       -1,508 ft       349 ft     1,857 ft   \n",
       "1      1            10-dollar         -191 ft     2,446 ft     2,636 ft   \n",
       "2      2                10-km         -694 ft     4,931 ft     5,625 ft   \n",
       "3      3  115th-ave-connector          -46 ft     1,054 ft         None   \n",
       "4      4                  147           -0 ft     2,638 ft     2,638 ft   \n",
       "\n",
       "  Altitude min Altitude start Avg reverse time  Avg time    Bike type  \\\n",
       "0       349 ft       1,857 ft         00:01:40  00:12:58       DH, AM   \n",
       "1     2,446 ft       2,636 ft         00:15:47  00:09:03   DH, AM, XC   \n",
       "2     4,918 ft       5,625 ft             None  00:06:44           DH   \n",
       "3     1,054 ft       1,100 ft             None      None           XC   \n",
       "4     2,635 ft       2,638 ft         00:07:23  00:01:17  DH, AM, Fat   \n",
       "\n",
       "     ...                                           description  distance  \\\n",
       "0    ...     Sustained steep and fast DH trail often used a...   2 miles   \n",
       "1    ...                  One of the original Pidherny trails.  2,226 ft   \n",
       "2    ...     The 10K trail is a good early season starting ...  2,840 ft   \n",
       "3    ...         Short connector to access the  Osoyoos Canal.  1,417 ft   \n",
       "4    ...     Short, technical trail that connects The Swamp...    324 ft   \n",
       "\n",
       "   latitude   longitude rating state votes Climb Difficulty Distance flat  \\\n",
       "0  48.82592 -123.762540   4.55    BC    13             None          None   \n",
       "1  53.98968 -122.846810   3.50    BC     8             None         76 ft   \n",
       "2  51.28040 -116.893354   3.20    BC     5             None          None   \n",
       "3  49.03372 -119.488330   1.00    BC     1            Green         48 ft   \n",
       "4  53.87815 -122.828430   4.00    BC     1            Green         64 ft   \n",
       "\n",
       "  trail_num  \n",
       "0      None  \n",
       "1      None  \n",
       "2      None  \n",
       "3      None  \n",
       "4      None  \n",
       "\n",
       "[5 rows x 38 columns]"
      ]
     },
     "execution_count": 66,
     "metadata": {},
     "output_type": "execute_result"
    }
   ],
   "source": [
    "trail_data,indices = get_trail_data()\n",
    "trail_data.head()\n",
    "#trail_data['url'] = 'https://www.trailforks.com/trails/' + trail_data['trail_id'] + '/'"
   ]
  },
  {
   "cell_type": "code",
   "execution_count": 52,
   "metadata": {},
   "outputs": [],
   "source": [
    "#trail_id_num = []\n",
    "#for trail in trail_data['url']:\n",
    "#    soup = get_soup(trail)\n",
    "#    trail_id_num.append(soup.find(href=find_id).attrs['href'].split('trailid=')[1])"
   ]
  },
  {
   "cell_type": "code",
   "execution_count": 53,
   "metadata": {},
   "outputs": [
    {
     "data": {
      "text/plain": [
       "2802"
      ]
     },
     "execution_count": 53,
     "metadata": {},
     "output_type": "execute_result"
    }
   ],
   "source": [
    "len(trail_id_num)"
   ]
  },
  {
   "cell_type": "code",
   "execution_count": 54,
   "metadata": {},
   "outputs": [],
   "source": [
    "df_trail_id_info = pd.DataFrame({'trail_data':trail_data['trail_id'],'trail_num':trail_id_num})"
   ]
  },
  {
   "cell_type": "code",
   "execution_count": 55,
   "metadata": {},
   "outputs": [
    {
     "data": {
      "text/html": [
       "<div>\n",
       "<style scoped>\n",
       "    .dataframe tbody tr th:only-of-type {\n",
       "        vertical-align: middle;\n",
       "    }\n",
       "\n",
       "    .dataframe tbody tr th {\n",
       "        vertical-align: top;\n",
       "    }\n",
       "\n",
       "    .dataframe thead th {\n",
       "        text-align: right;\n",
       "    }\n",
       "</style>\n",
       "<table border=\"1\" class=\"dataframe\">\n",
       "  <thead>\n",
       "    <tr style=\"text-align: right;\">\n",
       "      <th></th>\n",
       "      <th>trail_data</th>\n",
       "      <th>trail_num</th>\n",
       "    </tr>\n",
       "  </thead>\n",
       "  <tbody>\n",
       "    <tr>\n",
       "      <th>0</th>\n",
       "      <td>1-87-dh</td>\n",
       "      <td>6592</td>\n",
       "    </tr>\n",
       "    <tr>\n",
       "      <th>1</th>\n",
       "      <td>10-dollar</td>\n",
       "      <td>16776</td>\n",
       "    </tr>\n",
       "    <tr>\n",
       "      <th>2</th>\n",
       "      <td>10-km</td>\n",
       "      <td>3455</td>\n",
       "    </tr>\n",
       "    <tr>\n",
       "      <th>3</th>\n",
       "      <td>115th-ave-connector</td>\n",
       "      <td>135396</td>\n",
       "    </tr>\n",
       "    <tr>\n",
       "      <th>4</th>\n",
       "      <td>147</td>\n",
       "      <td>35231</td>\n",
       "    </tr>\n",
       "  </tbody>\n",
       "</table>\n",
       "</div>"
      ],
      "text/plain": [
       "            trail_data trail_num\n",
       "0              1-87-dh      6592\n",
       "1            10-dollar     16776\n",
       "2                10-km      3455\n",
       "3  115th-ave-connector    135396\n",
       "4                  147     35231"
      ]
     },
     "execution_count": 55,
     "metadata": {},
     "output_type": "execute_result"
    }
   ],
   "source": [
    "df_trail_id_info.head()"
   ]
  },
  {
   "cell_type": "code",
   "execution_count": 56,
   "metadata": {},
   "outputs": [],
   "source": [
    "conn = psycopg2.connect(\"host=localhost dbname=trailrec user=briangraham\")\n",
    "cur = conn.cursor()\n",
    "cur.execute('ALTER TABLE %s ADD COLUMN %s text' % ('trails', 'trail_num'))\n",
    "conn.commit()"
   ]
  },
  {
   "cell_type": "code",
   "execution_count": 64,
   "metadata": {},
   "outputs": [],
   "source": [
    "import psycopg2 \n",
    "def update_vendor(trail_id, trail_num):\n",
    "    \"\"\" update trail num based on the trail id \"\"\"\n",
    "    sql = \"\"\" UPDATE trails\n",
    "                SET trail_num = %s\n",
    "                WHERE trail_id = %s\"\"\"\n",
    "    conn = None\n",
    "    updated_rows = 0\n",
    "    try:\n",
    "        # read database configuration\n",
    "        # connect to the PostgreSQL database\n",
    "        conn = psycopg2.connect(\"host=localhost dbname=trailrec user=briangraham\")\n",
    "        # create a new cursor\n",
    "        cur = conn.cursor()\n",
    "        # execute the UPDATE  statement\n",
    "        cur.execute(sql, (trail_id, trail_num))\n",
    "        # get the number of updated rows\n",
    "        updated_rows = cur.rowcount\n",
    "        # Commit the changes to the database\n",
    "        conn.commit()\n",
    "        # Close communication with the PostgreSQL database\n",
    "        cur.close()\n",
    "    except (Exception, psycopg2.DatabaseError) as error:\n",
    "        print(error)\n",
    "    finally:\n",
    "        if conn is not None:\n",
    "            conn.close()\n",
    "\n",
    "    return updated_rows"
   ]
  },
  {
   "cell_type": "code",
   "execution_count": 69,
   "metadata": {},
   "outputs": [
    {
     "name": "stdout",
     "output_type": "stream",
     "text": [
      "can't adapt type 'Series'\n"
     ]
    },
    {
     "data": {
      "text/plain": [
       "0"
      ]
     },
     "execution_count": 69,
     "metadata": {},
     "output_type": "execute_result"
    }
   ],
   "source": [
    "for trail_id, trail_num in zip(,df_trail_id_info['trail_num']):\n",
    "    update_vendor(trail_id, trail_num)"
   ]
  },
  {
   "cell_type": "code",
   "execution_count": 70,
   "metadata": {},
   "outputs": [
    {
     "ename": "AttributeError",
     "evalue": "'str' object has no attribute 'str'",
     "output_type": "error",
     "traceback": [
      "\u001b[0;31m---------------------------------------------------------------------------\u001b[0m",
      "\u001b[0;31mAttributeError\u001b[0m                            Traceback (most recent call last)",
      "\u001b[0;32m<ipython-input-70-ecd889a5d07c>\u001b[0m in \u001b[0;36m<module>\u001b[0;34m()\u001b[0m\n\u001b[0;32m----> 1\u001b[0;31m \u001b[0mupdate_vendor\u001b[0m\u001b[0;34m(\u001b[0m\u001b[0mdf_trail_id_info\u001b[0m\u001b[0;34m[\u001b[0m\u001b[0;34m'trail_data'\u001b[0m\u001b[0;34m]\u001b[0m\u001b[0;34m[\u001b[0m\u001b[0;36m1\u001b[0m\u001b[0;34m]\u001b[0m\u001b[0;34m.\u001b[0m\u001b[0mstr\u001b[0m\u001b[0;34m,\u001b[0m \u001b[0mdf_trail_id_info\u001b[0m\u001b[0;34m[\u001b[0m\u001b[0;34m'trail_num'\u001b[0m\u001b[0;34m]\u001b[0m\u001b[0;34m[\u001b[0m\u001b[0;36m1\u001b[0m\u001b[0;34m]\u001b[0m\u001b[0;34m.\u001b[0m\u001b[0mstr\u001b[0m\u001b[0;34m)\u001b[0m\u001b[0;34m\u001b[0m\u001b[0m\n\u001b[0m",
      "\u001b[0;31mAttributeError\u001b[0m: 'str' object has no attribute 'str'"
     ]
    }
   ],
   "source": [
    "update_vendor(df_trail_id_info['trail_data'][1], df_trail_id_info['trail_num'][1])"
   ]
  },
  {
   "cell_type": "code",
   "execution_count": 73,
   "metadata": {},
   "outputs": [],
   "source": [
    "df_trail_id_info.to_csv('trail_id_nums.csv')"
   ]
  },
  {
   "cell_type": "code",
   "execution_count": null,
   "metadata": {},
   "outputs": [],
   "source": []
  }
 ],
 "metadata": {
  "kernelspec": {
   "display_name": "Python 3",
   "language": "python",
   "name": "python3"
  },
  "language_info": {
   "codemirror_mode": {
    "name": "ipython",
    "version": 3
   },
   "file_extension": ".py",
   "mimetype": "text/x-python",
   "name": "python",
   "nbconvert_exporter": "python",
   "pygments_lexer": "ipython3",
   "version": "3.6.6"
  }
 },
 "nbformat": 4,
 "nbformat_minor": 2
}
