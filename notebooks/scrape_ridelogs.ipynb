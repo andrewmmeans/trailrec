{
 "cells": [
  {
   "cell_type": "code",
   "execution_count": 1,
   "metadata": {},
   "outputs": [],
   "source": [
    "import numpy as np\n",
    "import pandas as pd\n",
    "from bs4 import BeautifulSoup\n",
    "from requests import get\n",
    "import re\n",
    "import json\n",
    "import random\n",
    "import time"
   ]
  },
  {
   "cell_type": "code",
   "execution_count": 2,
   "metadata": {},
   "outputs": [],
   "source": [
    "# get trail html\n",
    "def get_soup(url):\n",
    "    headers = {'User-Agent':'Mozilla/5.0 (Windows NT 6.1) AppleWebKit/537.36 (KHTML, like Gecko) Chrome/41.0.2228.0 Safari/537.36'}\n",
    "    page = get(url,headers=headers)\n",
    "    soup = BeautifulSoup(page.content, 'html.parser')\n",
    "    return soup"
   ]
  },
  {
   "cell_type": "code",
   "execution_count": 3,
   "metadata": {},
   "outputs": [],
   "source": [
    "missed_trails = pd.read_csv('/Users/briangraham/insight/trailrec/data/missed_trail_urls')"
   ]
  },
  {
   "cell_type": "code",
   "execution_count": 4,
   "metadata": {},
   "outputs": [],
   "source": [
    "randomized_trail_list_full = pd.read_csv('/Users/briangraham/insight/trailrec/data/random_scrap_list')"
   ]
  },
  {
   "cell_type": "code",
   "execution_count": 6,
   "metadata": {
    "scrolled": false
   },
   "outputs": [
    {
     "data": {
      "text/html": [
       "<div>\n",
       "<style scoped>\n",
       "    .dataframe tbody tr th:only-of-type {\n",
       "        vertical-align: middle;\n",
       "    }\n",
       "\n",
       "    .dataframe tbody tr th {\n",
       "        vertical-align: top;\n",
       "    }\n",
       "\n",
       "    .dataframe thead th {\n",
       "        text-align: right;\n",
       "    }\n",
       "</style>\n",
       "<table border=\"1\" class=\"dataframe\">\n",
       "  <thead>\n",
       "    <tr style=\"text-align: right;\">\n",
       "      <th></th>\n",
       "      <th>Unnamed: 0</th>\n",
       "      <th>missed_trail_url</th>\n",
       "    </tr>\n",
       "  </thead>\n",
       "  <tbody>\n",
       "    <tr>\n",
       "      <th>0</th>\n",
       "      <td>0</td>\n",
       "      <td>https://www.trailforks.com/trails/capilano-pac...</td>\n",
       "    </tr>\n",
       "    <tr>\n",
       "      <th>1</th>\n",
       "      <td>1</td>\n",
       "      <td>https://www.trailforks.com/trails/hiking-loop-...</td>\n",
       "    </tr>\n",
       "    <tr>\n",
       "      <th>2</th>\n",
       "      <td>2</td>\n",
       "      <td>https://www.trailforks.com/trails/burrill-aven...</td>\n",
       "    </tr>\n",
       "    <tr>\n",
       "      <th>3</th>\n",
       "      <td>3</td>\n",
       "      <td>https://www.trailforks.com/trails/orchard-uppe...</td>\n",
       "    </tr>\n",
       "    <tr>\n",
       "      <th>4</th>\n",
       "      <td>4</td>\n",
       "      <td>https://www.trailforks.com/trails/boiler-maker...</td>\n",
       "    </tr>\n",
       "  </tbody>\n",
       "</table>\n",
       "</div>"
      ],
      "text/plain": [
       "   Unnamed: 0                                   missed_trail_url\n",
       "0           0  https://www.trailforks.com/trails/capilano-pac...\n",
       "1           1  https://www.trailforks.com/trails/hiking-loop-...\n",
       "2           2  https://www.trailforks.com/trails/burrill-aven...\n",
       "3           3  https://www.trailforks.com/trails/orchard-uppe...\n",
       "4           4  https://www.trailforks.com/trails/boiler-maker..."
      ]
     },
     "execution_count": 6,
     "metadata": {},
     "output_type": "execute_result"
    }
   ],
   "source": [
    "missed_trails.head()"
   ]
  },
  {
   "cell_type": "code",
   "execution_count": 7,
   "metadata": {},
   "outputs": [
    {
     "data": {
      "text/html": [
       "<div>\n",
       "<style scoped>\n",
       "    .dataframe tbody tr th:only-of-type {\n",
       "        vertical-align: middle;\n",
       "    }\n",
       "\n",
       "    .dataframe tbody tr th {\n",
       "        vertical-align: top;\n",
       "    }\n",
       "\n",
       "    .dataframe thead th {\n",
       "        text-align: right;\n",
       "    }\n",
       "</style>\n",
       "<table border=\"1\" class=\"dataframe\">\n",
       "  <thead>\n",
       "    <tr style=\"text-align: right;\">\n",
       "      <th></th>\n",
       "      <th>Unnamed: 0</th>\n",
       "      <th>Unnamed: 0.1</th>\n",
       "      <th>trail_id</th>\n",
       "      <th>trail_url</th>\n",
       "      <th>trail_name</th>\n",
       "      <th>region_url</th>\n",
       "      <th>region_name</th>\n",
       "    </tr>\n",
       "  </thead>\n",
       "  <tbody>\n",
       "    <tr>\n",
       "      <th>0</th>\n",
       "      <td>784</td>\n",
       "      <td>784</td>\n",
       "      <td>brat-22073</td>\n",
       "      <td>https://www.trailforks.com/trails/brat-22073/</td>\n",
       "      <td>BRAT</td>\n",
       "      <td>https://www.trailforks.com/region/sechelt/</td>\n",
       "      <td>Sechelt</td>\n",
       "    </tr>\n",
       "    <tr>\n",
       "      <th>1</th>\n",
       "      <td>3817</td>\n",
       "      <td>3817</td>\n",
       "      <td>meadow-of-the-grizzly-spelhx-en-tl-a-stl-lhale...</td>\n",
       "      <td>https://www.trailforks.com/trails/meadow-of-th...</td>\n",
       "      <td>Meadow of the Grizzly (Spélhx̱en tl'a Stl'lhalem)</td>\n",
       "      <td>https://www.trailforks.com/region/diamond-head/</td>\n",
       "      <td>Diamond Head</td>\n",
       "    </tr>\n",
       "    <tr>\n",
       "      <th>2</th>\n",
       "      <td>6262</td>\n",
       "      <td>6262</td>\n",
       "      <td>the-dungeon</td>\n",
       "      <td>https://www.trailforks.com/trails/the-dungeon/</td>\n",
       "      <td>The Dungeon</td>\n",
       "      <td>https://www.trailforks.com/region/iron-mountain/</td>\n",
       "      <td>Iron Mountain</td>\n",
       "    </tr>\n",
       "    <tr>\n",
       "      <th>3</th>\n",
       "      <td>6538</td>\n",
       "      <td>6538</td>\n",
       "      <td>treacherous-cretins</td>\n",
       "      <td>https://www.trailforks.com/trails/treacherous-...</td>\n",
       "      <td>Treacherous Cretins</td>\n",
       "      <td>https://www.trailforks.com/region/lost-lake/</td>\n",
       "      <td>Lost Lake</td>\n",
       "    </tr>\n",
       "    <tr>\n",
       "      <th>4</th>\n",
       "      <td>979</td>\n",
       "      <td>979</td>\n",
       "      <td>capilano-pacific-trail-exit</td>\n",
       "      <td>https://www.trailforks.com/trails/capilano-pac...</td>\n",
       "      <td>Capilano Pacific Trail Exit</td>\n",
       "      <td>https://www.trailforks.com/region/west-vancouver/</td>\n",
       "      <td>West Vancouver</td>\n",
       "    </tr>\n",
       "  </tbody>\n",
       "</table>\n",
       "</div>"
      ],
      "text/plain": [
       "   Unnamed: 0  Unnamed: 0.1  \\\n",
       "0         784           784   \n",
       "1        3817          3817   \n",
       "2        6262          6262   \n",
       "3        6538          6538   \n",
       "4         979           979   \n",
       "\n",
       "                                            trail_id  \\\n",
       "0                                         brat-22073   \n",
       "1  meadow-of-the-grizzly-spelhx-en-tl-a-stl-lhale...   \n",
       "2                                        the-dungeon   \n",
       "3                                treacherous-cretins   \n",
       "4                        capilano-pacific-trail-exit   \n",
       "\n",
       "                                           trail_url  \\\n",
       "0      https://www.trailforks.com/trails/brat-22073/   \n",
       "1  https://www.trailforks.com/trails/meadow-of-th...   \n",
       "2     https://www.trailforks.com/trails/the-dungeon/   \n",
       "3  https://www.trailforks.com/trails/treacherous-...   \n",
       "4  https://www.trailforks.com/trails/capilano-pac...   \n",
       "\n",
       "                                          trail_name  \\\n",
       "0                                               BRAT   \n",
       "1  Meadow of the Grizzly (Spélhx̱en tl'a Stl'lhalem)   \n",
       "2                                        The Dungeon   \n",
       "3                                Treacherous Cretins   \n",
       "4                        Capilano Pacific Trail Exit   \n",
       "\n",
       "                                          region_url     region_name  \n",
       "0         https://www.trailforks.com/region/sechelt/         Sechelt  \n",
       "1    https://www.trailforks.com/region/diamond-head/    Diamond Head  \n",
       "2   https://www.trailforks.com/region/iron-mountain/   Iron Mountain  \n",
       "3       https://www.trailforks.com/region/lost-lake/       Lost Lake  \n",
       "4  https://www.trailforks.com/region/west-vancouver/  West Vancouver  "
      ]
     },
     "execution_count": 7,
     "metadata": {},
     "output_type": "execute_result"
    }
   ],
   "source": [
    "randomized_trail_list_full.head()"
   ]
  },
  {
   "cell_type": "code",
   "execution_count": 8,
   "metadata": {
    "scrolled": true
   },
   "outputs": [],
   "source": [
    "missed_trails = pd.read_csv('/Users/briangraham/insight/trailrec/data/missed_trail_urls')\n",
    "randomized_trail_list_full = pd.read_csv('/Users/briangraham/insight/trailrec/data/random_scrap_list')\n",
    "merged = pd.merge(missed_trails,randomized_trail_list_full, \n",
    "         left_on='missed_trail_url', right_on='trail_url', how='outer', indicator=True)\n",
    "len(merged[merged['_merge'] == 'right_only'])\n",
    "merged_clipped = merged[merged['_merge'] == 'right_only']"
   ]
  },
  {
   "cell_type": "code",
   "execution_count": 9,
   "metadata": {},
   "outputs": [
    {
     "data": {
      "text/html": [
       "<div>\n",
       "<style scoped>\n",
       "    .dataframe tbody tr th:only-of-type {\n",
       "        vertical-align: middle;\n",
       "    }\n",
       "\n",
       "    .dataframe tbody tr th {\n",
       "        vertical-align: top;\n",
       "    }\n",
       "\n",
       "    .dataframe thead th {\n",
       "        text-align: right;\n",
       "    }\n",
       "</style>\n",
       "<table border=\"1\" class=\"dataframe\">\n",
       "  <thead>\n",
       "    <tr style=\"text-align: right;\">\n",
       "      <th></th>\n",
       "      <th>Unnamed: 0_x</th>\n",
       "      <th>missed_trail_url</th>\n",
       "      <th>Unnamed: 0_y</th>\n",
       "      <th>Unnamed: 0.1</th>\n",
       "      <th>trail_id</th>\n",
       "      <th>trail_url</th>\n",
       "      <th>trail_name</th>\n",
       "      <th>region_url</th>\n",
       "      <th>region_name</th>\n",
       "      <th>_merge</th>\n",
       "    </tr>\n",
       "  </thead>\n",
       "  <tbody>\n",
       "    <tr>\n",
       "      <th>6969</th>\n",
       "      <td>NaN</td>\n",
       "      <td>NaN</td>\n",
       "      <td>410</td>\n",
       "      <td>410</td>\n",
       "      <td>bear-claw</td>\n",
       "      <td>https://www.trailforks.com/trails/bear-claw/</td>\n",
       "      <td>Bear Claw</td>\n",
       "      <td>https://www.trailforks.com/region/buntzen-lake...</td>\n",
       "      <td>Buntzen Lake Recreation Area</td>\n",
       "      <td>right_only</td>\n",
       "    </tr>\n",
       "  </tbody>\n",
       "</table>\n",
       "</div>"
      ],
      "text/plain": [
       "      Unnamed: 0_x missed_trail_url  Unnamed: 0_y  Unnamed: 0.1   trail_id  \\\n",
       "6969           NaN              NaN           410           410  bear-claw   \n",
       "\n",
       "                                         trail_url trail_name  \\\n",
       "6969  https://www.trailforks.com/trails/bear-claw/  Bear Claw   \n",
       "\n",
       "                                             region_url  \\\n",
       "6969  https://www.trailforks.com/region/buntzen-lake...   \n",
       "\n",
       "                       region_name      _merge  \n",
       "6969  Buntzen Lake Recreation Area  right_only  "
      ]
     },
     "execution_count": 9,
     "metadata": {},
     "output_type": "execute_result"
    }
   ],
   "source": [
    "merged_clipped[merged_clipped['trail_id'] == 'bear-claw'].head()"
   ]
  },
  {
   "cell_type": "code",
   "execution_count": 10,
   "metadata": {},
   "outputs": [],
   "source": [
    "merged = merged_clipped.loc[6969:]"
   ]
  },
  {
   "cell_type": "code",
   "execution_count": 18,
   "metadata": {},
   "outputs": [
    {
     "ename": "KeyError",
     "evalue": "0",
     "output_type": "error",
     "traceback": [
      "\u001b[0;31m---------------------------------------------------------------------------\u001b[0m",
      "\u001b[0;31mKeyError\u001b[0m                                  Traceback (most recent call last)",
      "\u001b[0;32m<ipython-input-18-c1e29cc9fd1e>\u001b[0m in \u001b[0;36m<module>\u001b[0;34m()\u001b[0m\n\u001b[0;32m----> 1\u001b[0;31m \u001b[0mtest_url\u001b[0m \u001b[0;34m=\u001b[0m \u001b[0mmerged\u001b[0m\u001b[0;34m[\u001b[0m\u001b[0;34m'trail_url'\u001b[0m\u001b[0;34m]\u001b[0m\u001b[0;34m[\u001b[0m\u001b[0;36m0\u001b[0m\u001b[0;34m]\u001b[0m \u001b[0;34m+\u001b[0m \u001b[0;34m'ridelogs/'\u001b[0m\u001b[0;34m\u001b[0m\u001b[0m\n\u001b[0m\u001b[1;32m      2\u001b[0m \u001b[0msoup\u001b[0m  \u001b[0;34m=\u001b[0m \u001b[0mget_soup\u001b[0m\u001b[0;34m(\u001b[0m\u001b[0;34m'https://www.trailforks.com/trails/verboten/ridelogs/'\u001b[0m\u001b[0;34m)\u001b[0m\u001b[0;34m\u001b[0m\u001b[0m\n",
      "\u001b[0;32m~/anaconda3/envs/trailrec/lib/python3.7/site-packages/pandas/core/series.py\u001b[0m in \u001b[0;36m__getitem__\u001b[0;34m(self, key)\u001b[0m\n\u001b[1;32m    765\u001b[0m         \u001b[0mkey\u001b[0m \u001b[0;34m=\u001b[0m \u001b[0mcom\u001b[0m\u001b[0;34m.\u001b[0m\u001b[0m_apply_if_callable\u001b[0m\u001b[0;34m(\u001b[0m\u001b[0mkey\u001b[0m\u001b[0;34m,\u001b[0m \u001b[0mself\u001b[0m\u001b[0;34m)\u001b[0m\u001b[0;34m\u001b[0m\u001b[0m\n\u001b[1;32m    766\u001b[0m         \u001b[0;32mtry\u001b[0m\u001b[0;34m:\u001b[0m\u001b[0;34m\u001b[0m\u001b[0m\n\u001b[0;32m--> 767\u001b[0;31m             \u001b[0mresult\u001b[0m \u001b[0;34m=\u001b[0m \u001b[0mself\u001b[0m\u001b[0;34m.\u001b[0m\u001b[0mindex\u001b[0m\u001b[0;34m.\u001b[0m\u001b[0mget_value\u001b[0m\u001b[0;34m(\u001b[0m\u001b[0mself\u001b[0m\u001b[0;34m,\u001b[0m \u001b[0mkey\u001b[0m\u001b[0;34m)\u001b[0m\u001b[0;34m\u001b[0m\u001b[0m\n\u001b[0m\u001b[1;32m    768\u001b[0m \u001b[0;34m\u001b[0m\u001b[0m\n\u001b[1;32m    769\u001b[0m             \u001b[0;32mif\u001b[0m \u001b[0;32mnot\u001b[0m \u001b[0mis_scalar\u001b[0m\u001b[0;34m(\u001b[0m\u001b[0mresult\u001b[0m\u001b[0;34m)\u001b[0m\u001b[0;34m:\u001b[0m\u001b[0;34m\u001b[0m\u001b[0m\n",
      "\u001b[0;32m~/anaconda3/envs/trailrec/lib/python3.7/site-packages/pandas/core/indexes/base.py\u001b[0m in \u001b[0;36mget_value\u001b[0;34m(self, series, key)\u001b[0m\n\u001b[1;32m   3116\u001b[0m         \u001b[0;32mtry\u001b[0m\u001b[0;34m:\u001b[0m\u001b[0;34m\u001b[0m\u001b[0m\n\u001b[1;32m   3117\u001b[0m             return self._engine.get_value(s, k,\n\u001b[0;32m-> 3118\u001b[0;31m                                           tz=getattr(series.dtype, 'tz', None))\n\u001b[0m\u001b[1;32m   3119\u001b[0m         \u001b[0;32mexcept\u001b[0m \u001b[0mKeyError\u001b[0m \u001b[0;32mas\u001b[0m \u001b[0me1\u001b[0m\u001b[0;34m:\u001b[0m\u001b[0;34m\u001b[0m\u001b[0m\n\u001b[1;32m   3120\u001b[0m             \u001b[0;32mif\u001b[0m \u001b[0mlen\u001b[0m\u001b[0;34m(\u001b[0m\u001b[0mself\u001b[0m\u001b[0;34m)\u001b[0m \u001b[0;34m>\u001b[0m \u001b[0;36m0\u001b[0m \u001b[0;32mand\u001b[0m \u001b[0mself\u001b[0m\u001b[0;34m.\u001b[0m\u001b[0minferred_type\u001b[0m \u001b[0;32min\u001b[0m \u001b[0;34m[\u001b[0m\u001b[0;34m'integer'\u001b[0m\u001b[0;34m,\u001b[0m \u001b[0;34m'boolean'\u001b[0m\u001b[0;34m]\u001b[0m\u001b[0;34m:\u001b[0m\u001b[0;34m\u001b[0m\u001b[0m\n",
      "\u001b[0;32mpandas/_libs/index.pyx\u001b[0m in \u001b[0;36mpandas._libs.index.IndexEngine.get_value\u001b[0;34m()\u001b[0m\n",
      "\u001b[0;32mpandas/_libs/index.pyx\u001b[0m in \u001b[0;36mpandas._libs.index.IndexEngine.get_value\u001b[0;34m()\u001b[0m\n",
      "\u001b[0;32mpandas/_libs/index.pyx\u001b[0m in \u001b[0;36mpandas._libs.index.IndexEngine.get_loc\u001b[0;34m()\u001b[0m\n",
      "\u001b[0;32mpandas/_libs/hashtable_class_helper.pxi\u001b[0m in \u001b[0;36mpandas._libs.hashtable.Int64HashTable.get_item\u001b[0;34m()\u001b[0m\n",
      "\u001b[0;32mpandas/_libs/hashtable_class_helper.pxi\u001b[0m in \u001b[0;36mpandas._libs.hashtable.Int64HashTable.get_item\u001b[0;34m()\u001b[0m\n",
      "\u001b[0;31mKeyError\u001b[0m: 0"
     ]
    }
   ],
   "source": [
    "test_url = merged['trail_url'][0] + 'ridelogs/'\n",
    "soup  = get_soup('https://www.trailforks.com/trails/verboten/ridelogs/')"
   ]
  },
  {
   "cell_type": "code",
   "execution_count": 15,
   "metadata": {},
   "outputs": [
    {
     "ename": "NameError",
     "evalue": "name 'soup' is not defined",
     "output_type": "error",
     "traceback": [
      "\u001b[0;31m---------------------------------------------------------------------------\u001b[0m",
      "\u001b[0;31mNameError\u001b[0m                                 Traceback (most recent call last)",
      "\u001b[0;32m<ipython-input-15-f6a26de3c3d2>\u001b[0m in \u001b[0;36m<module>\u001b[0;34m()\u001b[0m\n\u001b[1;32m      6\u001b[0m \u001b[0mride_difficulty_string\u001b[0m \u001b[0;34m=\u001b[0m \u001b[0;34m[\u001b[0m\u001b[0;34m]\u001b[0m\u001b[0;34m\u001b[0m\u001b[0m\n\u001b[1;32m      7\u001b[0m \u001b[0;34m\u001b[0m\u001b[0m\n\u001b[0;32m----> 8\u001b[0;31m \u001b[0mtable\u001b[0m \u001b[0;34m=\u001b[0m \u001b[0msoup\u001b[0m\u001b[0;34m.\u001b[0m\u001b[0mfind\u001b[0m\u001b[0;34m(\u001b[0m\u001b[0;34m'section'\u001b[0m\u001b[0;34m)\u001b[0m\u001b[0;34m.\u001b[0m\u001b[0mfind\u001b[0m\u001b[0;34m(\u001b[0m\u001b[0;34m'table'\u001b[0m\u001b[0;34m,\u001b[0m\u001b[0mid\u001b[0m\u001b[0;34m=\u001b[0m\u001b[0;34m''\u001b[0m\u001b[0;34m)\u001b[0m\u001b[0;34m.\u001b[0m\u001b[0mfind\u001b[0m\u001b[0;34m(\u001b[0m\u001b[0;34m'tbody'\u001b[0m\u001b[0;34m)\u001b[0m\u001b[0;34m.\u001b[0m\u001b[0mfind_all\u001b[0m\u001b[0;34m(\u001b[0m\u001b[0;34m'tr'\u001b[0m\u001b[0;34m)\u001b[0m\u001b[0;34m\u001b[0m\u001b[0m\n\u001b[0m\u001b[1;32m      9\u001b[0m \u001b[0;32mfor\u001b[0m \u001b[0mrow\u001b[0m \u001b[0;32min\u001b[0m \u001b[0mtable\u001b[0m\u001b[0;34m:\u001b[0m\u001b[0;34m\u001b[0m\u001b[0m\n\u001b[1;32m     10\u001b[0m     \u001b[0mrow_struct\u001b[0m \u001b[0;34m=\u001b[0m \u001b[0mrow\u001b[0m\u001b[0;34m.\u001b[0m\u001b[0mfind_all\u001b[0m\u001b[0;34m(\u001b[0m\u001b[0;34m'td'\u001b[0m\u001b[0;34m)\u001b[0m\u001b[0;34m\u001b[0m\u001b[0m\n",
      "\u001b[0;31mNameError\u001b[0m: name 'soup' is not defined"
     ]
    }
   ],
   "source": [
    "ride_date = []\n",
    "rider_url = []\n",
    "rider_name = []\n",
    "rider_state = []\n",
    "rider_city = []\n",
    "ride_difficulty_string = []\n",
    "\n",
    "table = soup.find('section').find('table',id='').find('tbody').find_all('tr')\n",
    "for row in table:\n",
    "    row_struct = row.find_all('td')\n",
    "    ride_date.append(row_struct[1].find('span').text)\n",
    "    rider_url.append(row_struct[2].find('a').attrs['href'])\n",
    "    rider_name.append(row_struct[2].find('a').text)\n",
    "    rider_state.append(row_struct[4].text)\n",
    "    rider_city.append(row_struct[5].text)\n",
    "    ride_difficulty_string.append(row_struct[8].span.attrs['title'])"
   ]
  },
  {
   "cell_type": "code",
   "execution_count": 11,
   "metadata": {},
   "outputs": [],
   "source": [
    "def get_page_url_list(urlbase):\n",
    "    trail_list_soup = get_soup(urlbase) \n",
    "    check_log = trail_list_soup.find('ul', class_='paging-middle centertext')\n",
    "    url_list = []\n",
    "    if check_log:\n",
    "        pagedata = check_log.find_all('li')\n",
    "        lastpage = int(pagedata[-1].text)\n",
    "        \n",
    "        for i in np.arange(lastpage):\n",
    "            n = i+1\n",
    "            if n == 1:\n",
    "                url = urlbase\n",
    "            else:\n",
    "                url = urlbase + '?page=' + str(n)\n",
    "            url_list.append(url)\n",
    "        return url_list\n",
    "    else:\n",
    "        return url_list\n",
    "    "
   ]
  },
  {
   "cell_type": "code",
   "execution_count": 12,
   "metadata": {},
   "outputs": [],
   "source": [
    "errorlog3 = []\n",
    "for t_id,url in zip(merged['trail_id'],merged['trail_url']):\n",
    "    ridelog_url = url + 'ridelogs/'\n",
    "    page_list = get_page_url_list(ridelog_url)\n",
    "    ride_date = []\n",
    "    rider_url = []\n",
    "    rider_name = []\n",
    "    rider_state = []\n",
    "    rider_city = []\n",
    "    ride_difficulty_string = []\n",
    "    try:\n",
    "        for page in page_list:\n",
    "            soup  = get_soup(page)\n",
    "            table = soup.find('section').find('table',id='').find('tbody').find_all('tr')\n",
    "            for row in table:\n",
    "                row_struct = row.find_all('td')\n",
    "                ride_date.append(row_struct[1].find('span').text)\n",
    "                rider_url.append(row_struct[2].find('a').attrs['href'])\n",
    "                rider_name.append(row_struct[2].find('a').text)\n",
    "                rider_state.append(row_struct[4].text)\n",
    "                rider_city.append(row_struct[5].text)\n",
    "                ride_difficulty_string.append(row_struct[8].span.attrs['title'])\n",
    "        ridelog_data_save_loc = '/Users/briangraham/insight/trailrec/data/ridelogs/'\n",
    "        df_ridelog_data = pd.DataFrame({'ride_date':ride_date,'rider_url':rider_url,'rider_name':rider_name,'rider_state':rider_state,'rider_city':rider_city,'ride_difficulty_string':ride_difficulty_string})\n",
    "        df_ridelog_data.to_pickle(ridelog_data_save_loc + t_id + '.pickle')\n",
    "    except:\n",
    "        errorlog3.append(url)"
   ]
  },
  {
   "cell_type": "code",
   "execution_count": 45,
   "metadata": {},
   "outputs": [
    {
     "data": {
      "text/plain": [
       "[]"
      ]
     },
     "execution_count": 45,
     "metadata": {},
     "output_type": "execute_result"
    }
   ],
   "source": [
    "errorlog"
   ]
  },
  {
   "cell_type": "code",
   "execution_count": null,
   "metadata": {},
   "outputs": [],
   "source": []
  }
 ],
 "metadata": {
  "kernelspec": {
   "display_name": "Python 3",
   "language": "python",
   "name": "python3"
  },
  "language_info": {
   "codemirror_mode": {
    "name": "ipython",
    "version": 3
   },
   "file_extension": ".py",
   "mimetype": "text/x-python",
   "name": "python",
   "nbconvert_exporter": "python",
   "pygments_lexer": "ipython3",
   "version": "3.7.0"
  }
 },
 "nbformat": 4,
 "nbformat_minor": 2
}
