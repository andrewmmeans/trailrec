{
 "cells": [
  {
   "cell_type": "code",
   "execution_count": 1,
   "metadata": {},
   "outputs": [],
   "source": [
    "import numpy as np\n",
    "import pandas as pd\n",
    "from bs4 import BeautifulSoup\n",
    "from requests import get\n",
    "import re\n",
    "import json\n",
    "import random\n",
    "import time"
   ]
  },
  {
   "cell_type": "markdown",
   "metadata": {},
   "source": [
    "# Get Soup"
   ]
  },
  {
   "cell_type": "code",
   "execution_count": 6,
   "metadata": {},
   "outputs": [],
   "source": [
    "# get trail html\n",
    "def get_soup(url):\n",
    "    headers = {'User-Agent':'Mozilla/5.0 (Windows NT 6.1) AppleWebKit/537.36 (KHTML, like Gecko) Chrome/41.0.2228.0 Safari/537.36'}\n",
    "    page = get(url,headers=headers)\n",
    "    soup = BeautifulSoup(page.content, 'html.parser')\n",
    "    return soup"
   ]
  },
  {
   "cell_type": "markdown",
   "metadata": {},
   "source": [
    "# Main Trail Stats"
   ]
  },
  {
   "cell_type": "code",
   "execution_count": 7,
   "metadata": {},
   "outputs": [],
   "source": [
    "# get basic trail stats\n",
    "\n",
    "def get_stats(soup):\n",
    "    trail_details_label = []\n",
    "    trail_details_value = []\n",
    "    basic_box = soup.find('div',id=\"basicTrailStats\")\n",
    "    basic_cols = basic_box.find_all('div',class_='large')\n",
    "\n",
    "    distance = basic_cols[0].text\n",
    "    trail_details_label.append('distance')\n",
    "    trail_details_value.append(distance)\n",
    "\n",
    "    climb = basic_cols[1].text\n",
    "    trail_details_label.append('climb')\n",
    "    trail_details_value.append(climb)\n",
    "\n",
    "    descent = basic_cols[2].text\n",
    "    trail_details_label.append('descent')\n",
    "    trail_details_value.append(descent)\n",
    "\n",
    "    avg_time = basic_cols[3].text\n",
    "    trail_details_label.append('avg_time')\n",
    "    trail_details_value.append(avg_time)\n",
    "\n",
    "    # get rating and number of votes\n",
    "    rating_box = soup.find('div',class_='star-rating readonly')\n",
    "    rating = rating_box.find('span',class_='result').text\n",
    "    trail_details_label.append('rating')\n",
    "    trail_details_value.append(rating)\n",
    "\n",
    "    votes = rating_box.find('span',class_='votesLink underline grey clickable').text\n",
    "    trail_details_label.append('votes')\n",
    "    trail_details_value.append(votes)\n",
    "\n",
    "    ## trail detailed stats\n",
    "    details_box = soup.find('ul',id='traildetails_display').find_all('li')\n",
    "    for line in details_box:\n",
    "        line_segs = line.find_all('div')\n",
    "        if len(line_segs) == 2:\n",
    "            trail_details_label.append(line_segs[0].get_text(strip=True))\n",
    "            trail_details_value.append(line_segs[1].get_text(strip=True))\n",
    "    stats_box = soup.find('ul',id='trailstats_display').find_all('li')\n",
    "    for line in stats_box:\n",
    "        line_segs = line.find_all('div')\n",
    "        if len(line_segs) == 2:\n",
    "            trail_details_label.append(line_segs[0].get_text(strip=True))\n",
    "            trail_details_value.append(line_segs[1].get_text(strip=True))\n",
    "\n",
    "    # descriptions\n",
    "    description_box_html = soup.find('p',id='trail_description')\n",
    "    if description_box_html:\n",
    "        description = description_box_html.text\n",
    "        trail_details_label.append('description')\n",
    "        trail_details_value.append(description)\n",
    "    else:\n",
    "        description=[]\n",
    "\n",
    "    # geo info\n",
    "    parsed_json = json.loads(soup.find('script',type='application/ld+json').text)\n",
    "    trail_details_label.append('latitude')\n",
    "    trail_details_value.append(parsed_json['geo']['latitude'])\n",
    "    trail_details_label.append('longitude')\n",
    "    trail_details_value.append(parsed_json['geo']['longitude'])\n",
    "    trail_details_label.append('city')\n",
    "    trail_details_value.append(parsed_json['address']['addressLocality'])\n",
    "    trail_details_label.append('state')\n",
    "    trail_details_value.append(parsed_json['address']['addressRegion'])\n",
    "    return trail_details_label,trail_details_value"
   ]
  },
  {
   "cell_type": "markdown",
   "metadata": {},
   "source": [
    "# Comment Info"
   ]
  },
  {
   "cell_type": "code",
   "execution_count": 8,
   "metadata": {},
   "outputs": [],
   "source": [
    "def get_comments(soup):\n",
    "    com_box = soup.find('div',class_='comcount')\n",
    "    if com_box:\n",
    "        com_all = soup.find_all('div',class_='ppcont')\n",
    "        com_votes = []\n",
    "        com_user = []\n",
    "        com_text = []\n",
    "        for com_num in com_all:\n",
    "            com_votes.append(com_num.div.div.text)\n",
    "            com_user.append(com_num.div.span.text)\n",
    "            com_text.append(com_num.find('div',class_=\"comtext translate\").get_text(strip=True))\n",
    "        return com_votes, com_user, com_text\n",
    "    else:\n",
    "        comcount = 0\n",
    "        return [],[],[]\n"
   ]
  },
  {
   "cell_type": "markdown",
   "metadata": {},
   "source": [
    "# Simple Test"
   ]
  },
  {
   "cell_type": "code",
   "execution_count": 9,
   "metadata": {},
   "outputs": [
    {
     "name": "stdout",
     "output_type": "stream",
     "text": [
      "['distance', 'climb', 'descent', 'avg_time', 'rating', 'votes', 'Riding area', 'Difficulty rating', 'Trail type', 'Bike type', 'Physical rating', 'Season', 'TTFs on trail', 'Ride in rain', 'Global Ranking', 'Altitude change', 'Altitude min', 'Altitude max', 'Altitude start', 'Altitude end', 'Grade', 'Grade max', 'Grade min', 'Distance climb', 'Distance down', 'Distance flat', 'Avg time', 'Avg reverse time', 'description', 'latitude', 'longitude', 'city', 'state'] ['1 miles', '56 ft', '-823 ft', '00:12:06', 'Avg: 4.6', '173 votes', 'Diamond HeadSquamish, British Columbia', 'Bluerate', 'Singletrack', 'DH, AM', 'Moderate', 'May - October', 'Bridge, Jump', 'Yes', '#2', '-766 ft', '1,116 ft', '1,883 ft', '1,883 ft', '1,116 ft', '-11.414%', '-47.666%', '20.067%', '913 ft', '1 miles', '188 ft', '00:12:06', '01:35:43', \"One of Squamish's most popular trails is basically a 3km downhill pumptrack. A beginner/intermediate/advanced trail built by Big Red Ted Tempany and a cadre of local volunteers.Not only is it Squamish’s first government-funded mountain bike trail, it is also being built with a mini-excavator and an eye for sustainability as its essential tools.\", '49.745130', '-123.068380', 'Squamish', 'BC'] ['+ 2', '+ 0', '+ 0'] ['JCKrahn', 'JGATBC', 'webermtb'] ['Fun and flowy', 'Amazing!!  10 out of 10!!!', 'Awesome trail! Very flowy but with some step sections. The berms si good. Recommended!']\n"
     ]
    }
   ],
   "source": [
    "soup= get_soup('https://www.trailforks.com/trails/half-nelson/')\n",
    "detail_label,detail_value = get_stats(soup)\n",
    "comment_votes,user,comment_text = get_comments(soup)\n",
    "print(detail_label,detail_value,comment_votes,user,comment_text)"
   ]
  },
  {
   "cell_type": "markdown",
   "metadata": {},
   "source": [
    "# Load list of trails and urls"
   ]
  },
  {
   "cell_type": "code",
   "execution_count": 10,
   "metadata": {
    "scrolled": true
   },
   "outputs": [
    {
     "data": {
      "text/html": [
       "<div>\n",
       "<style scoped>\n",
       "    .dataframe tbody tr th:only-of-type {\n",
       "        vertical-align: middle;\n",
       "    }\n",
       "\n",
       "    .dataframe tbody tr th {\n",
       "        vertical-align: top;\n",
       "    }\n",
       "\n",
       "    .dataframe thead th {\n",
       "        text-align: right;\n",
       "    }\n",
       "</style>\n",
       "<table border=\"1\" class=\"dataframe\">\n",
       "  <thead>\n",
       "    <tr style=\"text-align: right;\">\n",
       "      <th></th>\n",
       "      <th>Unnamed: 0</th>\n",
       "      <th>trail_id</th>\n",
       "      <th>trail_url</th>\n",
       "      <th>trail_name</th>\n",
       "      <th>region_url</th>\n",
       "      <th>region_name</th>\n",
       "    </tr>\n",
       "  </thead>\n",
       "  <tbody>\n",
       "    <tr>\n",
       "      <th>0</th>\n",
       "      <td>0</td>\n",
       "      <td>1-87-dh</td>\n",
       "      <td>https://www.trailforks.com/trails/1-87-dh/</td>\n",
       "      <td>$1.87 DH</td>\n",
       "      <td>https://www.trailforks.com/region/mount-prevost/</td>\n",
       "      <td>Mount Prevost</td>\n",
       "    </tr>\n",
       "    <tr>\n",
       "      <th>1</th>\n",
       "      <td>1</td>\n",
       "      <td>palomino</td>\n",
       "      <td>https://www.trailforks.com/trails/palomino/</td>\n",
       "      <td>* Palomino</td>\n",
       "      <td>https://www.trailforks.com/region/three-blind-...</td>\n",
       "      <td>Three Blind Mice</td>\n",
       "    </tr>\n",
       "    <tr>\n",
       "      <th>2</th>\n",
       "      <td>2</td>\n",
       "      <td>rock-star-66875</td>\n",
       "      <td>https://www.trailforks.com/trails/rock-star-66...</td>\n",
       "      <td>*ROCK STAR*</td>\n",
       "      <td>https://www.trailforks.com/region/west-sechelt/</td>\n",
       "      <td>West Sechelt</td>\n",
       "    </tr>\n",
       "    <tr>\n",
       "      <th>3</th>\n",
       "      <td>3</td>\n",
       "      <td>10-dollar</td>\n",
       "      <td>https://www.trailforks.com/trails/10-dollar/</td>\n",
       "      <td>10 Dollar</td>\n",
       "      <td>https://www.trailforks.com/region/pidherny-rec...</td>\n",
       "      <td>Pidherny Recreation Site</td>\n",
       "    </tr>\n",
       "    <tr>\n",
       "      <th>4</th>\n",
       "      <td>4</td>\n",
       "      <td>10-km</td>\n",
       "      <td>https://www.trailforks.com/trails/10-km/</td>\n",
       "      <td>10 km</td>\n",
       "      <td>https://www.trailforks.com/region/mount-7/</td>\n",
       "      <td>Mount 7</td>\n",
       "    </tr>\n",
       "  </tbody>\n",
       "</table>\n",
       "</div>"
      ],
      "text/plain": [
       "   Unnamed: 0         trail_id  \\\n",
       "0           0          1-87-dh   \n",
       "1           1         palomino   \n",
       "2           2  rock-star-66875   \n",
       "3           3        10-dollar   \n",
       "4           4            10-km   \n",
       "\n",
       "                                           trail_url   trail_name  \\\n",
       "0         https://www.trailforks.com/trails/1-87-dh/     $1.87 DH   \n",
       "1        https://www.trailforks.com/trails/palomino/   * Palomino   \n",
       "2  https://www.trailforks.com/trails/rock-star-66...  *ROCK STAR*   \n",
       "3       https://www.trailforks.com/trails/10-dollar/    10 Dollar   \n",
       "4           https://www.trailforks.com/trails/10-km/        10 km   \n",
       "\n",
       "                                          region_url               region_name  \n",
       "0   https://www.trailforks.com/region/mount-prevost/             Mount Prevost  \n",
       "1  https://www.trailforks.com/region/three-blind-...          Three Blind Mice  \n",
       "2    https://www.trailforks.com/region/west-sechelt/              West Sechelt  \n",
       "3  https://www.trailforks.com/region/pidherny-rec...  Pidherny Recreation Site  \n",
       "4         https://www.trailforks.com/region/mount-7/                   Mount 7  "
      ]
     },
     "execution_count": 10,
     "metadata": {},
     "output_type": "execute_result"
    }
   ],
   "source": [
    "df = pd.read_csv('/Users/briangraham/insight/trailrec/data/BC_trail_names')\n",
    "df.head()"
   ]
  },
  {
   "cell_type": "code",
   "execution_count": 11,
   "metadata": {},
   "outputs": [
    {
     "data": {
      "text/plain": [
       "0           https://www.trailforks.com/trails/1-87-dh/\n",
       "1          https://www.trailforks.com/trails/palomino/\n",
       "2    https://www.trailforks.com/trails/rock-star-66...\n",
       "3         https://www.trailforks.com/trails/10-dollar/\n",
       "4             https://www.trailforks.com/trails/10-km/\n",
       "Name: trail_url, dtype: object"
      ]
     },
     "execution_count": 11,
     "metadata": {},
     "output_type": "execute_result"
    }
   ],
   "source": [
    "df['trail_url'].head()"
   ]
  },
  {
   "cell_type": "markdown",
   "metadata": {},
   "source": [
    "## Randomize trail list to make scraping less obvious"
   ]
  },
  {
   "cell_type": "code",
   "execution_count": 12,
   "metadata": {},
   "outputs": [],
   "source": [
    "#df2 = df.sample(frac=1)\n",
    "#df2.head()\n",
    "#df2.to_csv('/Users/briangraham/insight/trailrec/data/random_scrap_list')"
   ]
  },
  {
   "cell_type": "code",
   "execution_count": 14,
   "metadata": {},
   "outputs": [],
   "source": [
    "df_random = pd.read_csv('/Users/briangraham/insight/trailrec/data/random_scrap_list')"
   ]
  },
  {
   "cell_type": "code",
   "execution_count": 15,
   "metadata": {},
   "outputs": [
    {
     "data": {
      "text/html": [
       "<div>\n",
       "<style scoped>\n",
       "    .dataframe tbody tr th:only-of-type {\n",
       "        vertical-align: middle;\n",
       "    }\n",
       "\n",
       "    .dataframe tbody tr th {\n",
       "        vertical-align: top;\n",
       "    }\n",
       "\n",
       "    .dataframe thead th {\n",
       "        text-align: right;\n",
       "    }\n",
       "</style>\n",
       "<table border=\"1\" class=\"dataframe\">\n",
       "  <thead>\n",
       "    <tr style=\"text-align: right;\">\n",
       "      <th></th>\n",
       "      <th>Unnamed: 0</th>\n",
       "      <th>Unnamed: 0.1</th>\n",
       "      <th>trail_id</th>\n",
       "      <th>trail_url</th>\n",
       "      <th>trail_name</th>\n",
       "      <th>region_url</th>\n",
       "      <th>region_name</th>\n",
       "    </tr>\n",
       "  </thead>\n",
       "  <tbody>\n",
       "    <tr>\n",
       "      <th>0</th>\n",
       "      <td>784</td>\n",
       "      <td>784</td>\n",
       "      <td>brat-22073</td>\n",
       "      <td>https://www.trailforks.com/trails/brat-22073/</td>\n",
       "      <td>BRAT</td>\n",
       "      <td>https://www.trailforks.com/region/sechelt/</td>\n",
       "      <td>Sechelt</td>\n",
       "    </tr>\n",
       "    <tr>\n",
       "      <th>1</th>\n",
       "      <td>3817</td>\n",
       "      <td>3817</td>\n",
       "      <td>meadow-of-the-grizzly-spelhx-en-tl-a-stl-lhale...</td>\n",
       "      <td>https://www.trailforks.com/trails/meadow-of-th...</td>\n",
       "      <td>Meadow of the Grizzly (Spélhx̱en tl'a Stl'lhalem)</td>\n",
       "      <td>https://www.trailforks.com/region/diamond-head/</td>\n",
       "      <td>Diamond Head</td>\n",
       "    </tr>\n",
       "    <tr>\n",
       "      <th>2</th>\n",
       "      <td>6262</td>\n",
       "      <td>6262</td>\n",
       "      <td>the-dungeon</td>\n",
       "      <td>https://www.trailforks.com/trails/the-dungeon/</td>\n",
       "      <td>The Dungeon</td>\n",
       "      <td>https://www.trailforks.com/region/iron-mountain/</td>\n",
       "      <td>Iron Mountain</td>\n",
       "    </tr>\n",
       "    <tr>\n",
       "      <th>3</th>\n",
       "      <td>6538</td>\n",
       "      <td>6538</td>\n",
       "      <td>treacherous-cretins</td>\n",
       "      <td>https://www.trailforks.com/trails/treacherous-...</td>\n",
       "      <td>Treacherous Cretins</td>\n",
       "      <td>https://www.trailforks.com/region/lost-lake/</td>\n",
       "      <td>Lost Lake</td>\n",
       "    </tr>\n",
       "    <tr>\n",
       "      <th>4</th>\n",
       "      <td>979</td>\n",
       "      <td>979</td>\n",
       "      <td>capilano-pacific-trail-exit</td>\n",
       "      <td>https://www.trailforks.com/trails/capilano-pac...</td>\n",
       "      <td>Capilano Pacific Trail Exit</td>\n",
       "      <td>https://www.trailforks.com/region/west-vancouver/</td>\n",
       "      <td>West Vancouver</td>\n",
       "    </tr>\n",
       "  </tbody>\n",
       "</table>\n",
       "</div>"
      ],
      "text/plain": [
       "   Unnamed: 0  Unnamed: 0.1  \\\n",
       "0         784           784   \n",
       "1        3817          3817   \n",
       "2        6262          6262   \n",
       "3        6538          6538   \n",
       "4         979           979   \n",
       "\n",
       "                                            trail_id  \\\n",
       "0                                         brat-22073   \n",
       "1  meadow-of-the-grizzly-spelhx-en-tl-a-stl-lhale...   \n",
       "2                                        the-dungeon   \n",
       "3                                treacherous-cretins   \n",
       "4                        capilano-pacific-trail-exit   \n",
       "\n",
       "                                           trail_url  \\\n",
       "0      https://www.trailforks.com/trails/brat-22073/   \n",
       "1  https://www.trailforks.com/trails/meadow-of-th...   \n",
       "2     https://www.trailforks.com/trails/the-dungeon/   \n",
       "3  https://www.trailforks.com/trails/treacherous-...   \n",
       "4  https://www.trailforks.com/trails/capilano-pac...   \n",
       "\n",
       "                                          trail_name  \\\n",
       "0                                               BRAT   \n",
       "1  Meadow of the Grizzly (Spélhx̱en tl'a Stl'lhalem)   \n",
       "2                                        The Dungeon   \n",
       "3                                Treacherous Cretins   \n",
       "4                        Capilano Pacific Trail Exit   \n",
       "\n",
       "                                          region_url     region_name  \n",
       "0         https://www.trailforks.com/region/sechelt/         Sechelt  \n",
       "1    https://www.trailforks.com/region/diamond-head/    Diamond Head  \n",
       "2   https://www.trailforks.com/region/iron-mountain/   Iron Mountain  \n",
       "3       https://www.trailforks.com/region/lost-lake/       Lost Lake  \n",
       "4  https://www.trailforks.com/region/west-vancouver/  West Vancouver  "
      ]
     },
     "execution_count": 15,
     "metadata": {},
     "output_type": "execute_result"
    }
   ],
   "source": [
    "df_random.head()"
   ]
  },
  {
   "cell_type": "markdown",
   "metadata": {},
   "source": [
    "# SCRAPE LOOP"
   ]
  },
  {
   "cell_type": "code",
   "execution_count": 31,
   "metadata": {},
   "outputs": [],
   "source": [
    "errorlog = []\n",
    "for t_id, url in zip(df_random['trail_id'],df_random['trail_url']):\n",
    "    \n",
    "    try:\n",
    "        #scrape\n",
    "        soup = get_soup(url)\n",
    "        detail_label,detail_value = get_stats(soup)\n",
    "        comment_votes,user,comment_text = get_comments(soup)\n",
    "\n",
    "        #save\n",
    "        trail_data_save_loc = '/Users/briangraham/insight/trailrec/data/trail_info/'\n",
    "        df_trail_data = pd.DataFrame({'label':detail_label,'value':detail_value})\n",
    "        df_trail_data.to_pickle(trail_data_save_loc+ t_id + '.pickle')\n",
    "\n",
    "        comment_data_save_loc = '/Users/briangraham/insight/trailrec/data/comments/'\n",
    "        df_comment_data = pd.DataFrame({'comment_votes':comment_votes,'user':user,'comment_text':comment_text})\n",
    "        df_comment_data.to_pickle(comment_data_save_loc + t_id + '.pickle')\n",
    "    except:\n",
    "        errorlog.append(url)\n",
    "    time.sleep(random.uniform(.5,1))\n"
   ]
  },
  {
   "cell_type": "code",
   "execution_count": 40,
   "metadata": {},
   "outputs": [],
   "source": [
    "df_error = pd.DataFrame({'missed_trail_url':errorlog})\n",
    "df_error.head()\n",
    "df_error.to_csv('/Users/briangraham/insight/trailrec/data/missed_trail_urls')"
   ]
  },
  {
   "cell_type": "code",
   "execution_count": null,
   "metadata": {},
   "outputs": [],
   "source": []
  }
 ],
 "metadata": {
  "kernelspec": {
   "display_name": "Python 3",
   "language": "python",
   "name": "python3"
  },
  "language_info": {
   "codemirror_mode": {
    "name": "ipython",
    "version": 3
   },
   "file_extension": ".py",
   "mimetype": "text/x-python",
   "name": "python",
   "nbconvert_exporter": "python",
   "pygments_lexer": "ipython3",
   "version": "3.6.6"
  }
 },
 "nbformat": 4,
 "nbformat_minor": 2
}
