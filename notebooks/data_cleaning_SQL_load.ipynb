{
 "cells": [
  {
   "cell_type": "code",
   "execution_count": 1,
   "metadata": {},
   "outputs": [],
   "source": [
    "import numpy as np\n",
    "import pandas as pd\n",
    "from sqlalchemy import create_engine\n",
    "import psycopg2 \n",
    "import io"
   ]
  },
  {
   "cell_type": "markdown",
   "metadata": {},
   "source": [
    "# Clean Trail Data"
   ]
  },
  {
   "cell_type": "code",
   "execution_count": 23,
   "metadata": {},
   "outputs": [],
   "source": [
    "# Load trail info data\n",
    "df_trail = pd.read_pickle('/Users/briangraham/insight/trailrec/data/trail_info_combined.pickle')\n",
    "\n",
    "# Eliminate trails without descriptions\n",
    "df_trail = df_trail[df_trail['description'].notnull()]\n",
    "\n",
    "# subset trail data, eliminating uncommonly reported features with mostly NaN\n",
    "df_trail = df_trail[['Altitude change', 'Altitude end', 'Altitude max', 'Altitude min',\n",
    "       'Altitude start', 'Avg reverse time', 'Avg time', 'Bike type',\n",
    "       'Difficulty rating', 'Direction', 'Distance climb', 'Distance down',\n",
    "       'Global Ranking', 'Grade', 'Grade max', 'Grade min', 'Physical rating',\n",
    "       'Ride in rain', 'Riding area', 'TTFs on trail', 'Trail Usage',\n",
    "       'Trail type', 'avg_time', 'city', 'climb', 'descent', 'description',\n",
    "       'distance', 'latitude', 'longitude', 'rating', 'state', 'votes',\n",
    "       'Climb Difficulty', 'Distance flat']]\n",
    "df_trail['votes'] = df_trail['votes'].str.replace(' votes','')\n",
    "df_trail['votes'] = pd.to_numeric(df_trail['votes'])\n",
    "df_trail['rating'] = df_trail['rating'].str.replace('Avg:','')\n",
    "df_trail['rating'] = pd.to_numeric(df_trail['rating'])\n",
    "df_trail['latitude'] = pd.to_numeric(df_trail['latitude'])\n",
    "df_trail['longitude'] = pd.to_numeric(df_trail['longitude'])"
   ]
  },
  {
   "cell_type": "markdown",
   "metadata": {},
   "source": [
    "## Have to go through this data and remove units from strings and convert to numbers"
   ]
  },
  {
   "cell_type": "code",
   "execution_count": 24,
   "metadata": {
    "scrolled": false
   },
   "outputs": [
    {
     "data": {
      "text/html": [
       "<div>\n",
       "<style scoped>\n",
       "    .dataframe tbody tr th:only-of-type {\n",
       "        vertical-align: middle;\n",
       "    }\n",
       "\n",
       "    .dataframe tbody tr th {\n",
       "        vertical-align: top;\n",
       "    }\n",
       "\n",
       "    .dataframe thead th {\n",
       "        text-align: right;\n",
       "    }\n",
       "</style>\n",
       "<table border=\"1\" class=\"dataframe\">\n",
       "  <thead>\n",
       "    <tr style=\"text-align: right;\">\n",
       "      <th></th>\n",
       "      <th>Altitude change</th>\n",
       "      <th>Altitude end</th>\n",
       "      <th>Altitude max</th>\n",
       "      <th>Altitude min</th>\n",
       "      <th>Altitude start</th>\n",
       "      <th>Avg reverse time</th>\n",
       "      <th>Avg time</th>\n",
       "      <th>Bike type</th>\n",
       "      <th>Difficulty rating</th>\n",
       "      <th>Direction</th>\n",
       "      <th>...</th>\n",
       "      <th>descent</th>\n",
       "      <th>description</th>\n",
       "      <th>distance</th>\n",
       "      <th>latitude</th>\n",
       "      <th>longitude</th>\n",
       "      <th>rating</th>\n",
       "      <th>state</th>\n",
       "      <th>votes</th>\n",
       "      <th>Climb Difficulty</th>\n",
       "      <th>Distance flat</th>\n",
       "    </tr>\n",
       "    <tr>\n",
       "      <th>trail_id</th>\n",
       "      <th></th>\n",
       "      <th></th>\n",
       "      <th></th>\n",
       "      <th></th>\n",
       "      <th></th>\n",
       "      <th></th>\n",
       "      <th></th>\n",
       "      <th></th>\n",
       "      <th></th>\n",
       "      <th></th>\n",
       "      <th></th>\n",
       "      <th></th>\n",
       "      <th></th>\n",
       "      <th></th>\n",
       "      <th></th>\n",
       "      <th></th>\n",
       "      <th></th>\n",
       "      <th></th>\n",
       "      <th></th>\n",
       "      <th></th>\n",
       "      <th></th>\n",
       "    </tr>\n",
       "  </thead>\n",
       "  <tbody>\n",
       "    <tr>\n",
       "      <th>1-87-dh</th>\n",
       "      <td>-1,508 ft</td>\n",
       "      <td>349 ft</td>\n",
       "      <td>1,857 ft</td>\n",
       "      <td>349 ft</td>\n",
       "      <td>1,857 ft</td>\n",
       "      <td>00:01:40</td>\n",
       "      <td>00:12:58</td>\n",
       "      <td>DH, AM</td>\n",
       "      <td>Black Diamondrate</td>\n",
       "      <td>Downhill Primary</td>\n",
       "      <td>...</td>\n",
       "      <td>-1,513 ft</td>\n",
       "      <td>Sustained steep and fast DH trail often used a...</td>\n",
       "      <td>2 miles</td>\n",
       "      <td>48.82592</td>\n",
       "      <td>-123.76254</td>\n",
       "      <td>4.55</td>\n",
       "      <td>BC</td>\n",
       "      <td>13</td>\n",
       "      <td>NaN</td>\n",
       "      <td>NaN</td>\n",
       "    </tr>\n",
       "  </tbody>\n",
       "</table>\n",
       "<p>1 rows × 35 columns</p>\n",
       "</div>"
      ],
      "text/plain": [
       "         Altitude change Altitude end Altitude max Altitude min  \\\n",
       "trail_id                                                          \n",
       "1-87-dh        -1,508 ft       349 ft     1,857 ft       349 ft   \n",
       "\n",
       "         Altitude start Avg reverse time  Avg time Bike type  \\\n",
       "trail_id                                                       \n",
       "1-87-dh        1,857 ft         00:01:40  00:12:58    DH, AM   \n",
       "\n",
       "          Difficulty rating         Direction      ...         descent  \\\n",
       "trail_id                                           ...                   \n",
       "1-87-dh   Black Diamondrate  Downhill Primary      ...       -1,513 ft   \n",
       "\n",
       "                                                description distance  \\\n",
       "trail_id                                                               \n",
       "1-87-dh   Sustained steep and fast DH trail often used a...  2 miles   \n",
       "\n",
       "          latitude  longitude rating state votes Climb Difficulty  \\\n",
       "trail_id                                                            \n",
       "1-87-dh   48.82592 -123.76254   4.55    BC    13              NaN   \n",
       "\n",
       "         Distance flat  \n",
       "trail_id                \n",
       "1-87-dh            NaN  \n",
       "\n",
       "[1 rows x 35 columns]"
      ]
     },
     "execution_count": 24,
     "metadata": {},
     "output_type": "execute_result"
    }
   ],
   "source": [
    "df_trail.head(n=1)"
   ]
  },
  {
   "cell_type": "markdown",
   "metadata": {},
   "source": [
    "# Eliminate comments that do not match this trail subset"
   ]
  },
  {
   "cell_type": "code",
   "execution_count": 62,
   "metadata": {},
   "outputs": [],
   "source": [
    "df_comments = pd.read_pickle('/Users/briangraham/insight/trailrec/data/trail_comments_combined.pickle')\n",
    "df_comments_filtered = df_comments.join(df_trail,how='right')\n",
    "df_comments_filtered = df_comments_filtered[['comment_votes','user','comment_text']]\n",
    "df_comments_filtered = df_comments_filtered.dropna()"
   ]
  },
  {
   "cell_type": "code",
   "execution_count": 63,
   "metadata": {},
   "outputs": [
    {
     "data": {
      "text/html": [
       "<div>\n",
       "<style scoped>\n",
       "    .dataframe tbody tr th:only-of-type {\n",
       "        vertical-align: middle;\n",
       "    }\n",
       "\n",
       "    .dataframe tbody tr th {\n",
       "        vertical-align: top;\n",
       "    }\n",
       "\n",
       "    .dataframe thead th {\n",
       "        text-align: right;\n",
       "    }\n",
       "</style>\n",
       "<table border=\"1\" class=\"dataframe\">\n",
       "  <thead>\n",
       "    <tr style=\"text-align: right;\">\n",
       "      <th></th>\n",
       "      <th>comment_votes</th>\n",
       "      <th>user</th>\n",
       "      <th>comment_text</th>\n",
       "    </tr>\n",
       "    <tr>\n",
       "      <th>trail_id</th>\n",
       "      <th></th>\n",
       "      <th></th>\n",
       "      <th></th>\n",
       "    </tr>\n",
       "  </thead>\n",
       "  <tbody>\n",
       "    <tr>\n",
       "      <th>19th-hole</th>\n",
       "      <td>+ 1</td>\n",
       "      <td>blackcombterry</td>\n",
       "      <td>What's 19th Hole like below the Upper Legacy c...</td>\n",
       "    </tr>\n",
       "    <tr>\n",
       "      <th>2-3481</th>\n",
       "      <td>+ 0</td>\n",
       "      <td>atfarley</td>\n",
       "      <td>Just a road</td>\n",
       "    </tr>\n",
       "    <tr>\n",
       "      <th>2001</th>\n",
       "      <td>+ 1</td>\n",
       "      <td>amowat</td>\n",
       "      <td>Still some good ladders but alot gone. Big roc...</td>\n",
       "    </tr>\n",
       "    <tr>\n",
       "      <th>2001</th>\n",
       "      <td>+ 0</td>\n",
       "      <td>MtbSince84</td>\n",
       "      <td>Closed due to logging.</td>\n",
       "    </tr>\n",
       "    <tr>\n",
       "      <th>280-s</th>\n",
       "      <td>+ 0</td>\n",
       "      <td>HexAngel</td>\n",
       "      <td>Gently insistent ascent even this unfit geezer...</td>\n",
       "    </tr>\n",
       "  </tbody>\n",
       "</table>\n",
       "</div>"
      ],
      "text/plain": [
       "          comment_votes            user  \\\n",
       "trail_id                                  \n",
       "19th-hole           + 1  blackcombterry   \n",
       "2-3481              + 0        atfarley   \n",
       "2001                + 1          amowat   \n",
       "2001                + 0      MtbSince84   \n",
       "280-s               + 0        HexAngel   \n",
       "\n",
       "                                                comment_text  \n",
       "trail_id                                                      \n",
       "19th-hole  What's 19th Hole like below the Upper Legacy c...  \n",
       "2-3481                                           Just a road  \n",
       "2001       Still some good ladders but alot gone. Big roc...  \n",
       "2001                                  Closed due to logging.  \n",
       "280-s      Gently insistent ascent even this unfit geezer...  "
      ]
     },
     "execution_count": 63,
     "metadata": {},
     "output_type": "execute_result"
    }
   ],
   "source": [
    "df_comments_filtered.head()"
   ]
  },
  {
   "cell_type": "markdown",
   "metadata": {},
   "source": [
    "# Eliminate ridelogs that do not match this trail subset"
   ]
  },
  {
   "cell_type": "code",
   "execution_count": 66,
   "metadata": {},
   "outputs": [
    {
     "data": {
      "text/html": [
       "<div>\n",
       "<style scoped>\n",
       "    .dataframe tbody tr th:only-of-type {\n",
       "        vertical-align: middle;\n",
       "    }\n",
       "\n",
       "    .dataframe tbody tr th {\n",
       "        vertical-align: top;\n",
       "    }\n",
       "\n",
       "    .dataframe thead th {\n",
       "        text-align: right;\n",
       "    }\n",
       "</style>\n",
       "<table border=\"1\" class=\"dataframe\">\n",
       "  <thead>\n",
       "    <tr style=\"text-align: right;\">\n",
       "      <th></th>\n",
       "      <th>ride_date</th>\n",
       "      <th>rider_url</th>\n",
       "      <th>rider_name</th>\n",
       "      <th>rider_state</th>\n",
       "      <th>rider_city</th>\n",
       "      <th>ride_difficulty_string</th>\n",
       "    </tr>\n",
       "    <tr>\n",
       "      <th>trail_id</th>\n",
       "      <th></th>\n",
       "      <th></th>\n",
       "      <th></th>\n",
       "      <th></th>\n",
       "      <th></th>\n",
       "      <th></th>\n",
       "    </tr>\n",
       "  </thead>\n",
       "  <tbody>\n",
       "    <tr>\n",
       "      <th>1-87-dh</th>\n",
       "      <td>Jul 5</td>\n",
       "      <td>https://www.trailforks.com/profile/BCpov/</td>\n",
       "      <td>BCpov</td>\n",
       "      <td>BC</td>\n",
       "      <td>Duncan</td>\n",
       "      <td>Very Difficult / Black Diamond</td>\n",
       "    </tr>\n",
       "    <tr>\n",
       "      <th>1-87-dh</th>\n",
       "      <td>Jul 5</td>\n",
       "      <td>https://www.trailforks.com/profile/canadaka/</td>\n",
       "      <td>canadaka</td>\n",
       "      <td>BC</td>\n",
       "      <td>Duncan</td>\n",
       "      <td>Very Difficult / Black Diamond</td>\n",
       "    </tr>\n",
       "    <tr>\n",
       "      <th>1-87-dh</th>\n",
       "      <td>May 27</td>\n",
       "      <td>https://www.trailforks.com/profile/campasternak/</td>\n",
       "      <td>campasternak</td>\n",
       "      <td>BC</td>\n",
       "      <td>Duncan</td>\n",
       "      <td>Very Difficult / Black Diamond</td>\n",
       "    </tr>\n",
       "    <tr>\n",
       "      <th>1-87-dh</th>\n",
       "      <td>May 21</td>\n",
       "      <td>https://www.trailforks.com/profile/campasternak/</td>\n",
       "      <td>campasternak</td>\n",
       "      <td>BC</td>\n",
       "      <td>Duncan</td>\n",
       "      <td>Very Difficult / Black Diamond</td>\n",
       "    </tr>\n",
       "    <tr>\n",
       "      <th>1-87-dh</th>\n",
       "      <td>May 20</td>\n",
       "      <td>https://www.trailforks.com/profile/superlightr...</td>\n",
       "      <td>superlightracer</td>\n",
       "      <td>BC</td>\n",
       "      <td>Duncan</td>\n",
       "      <td>Very Difficult / Black Diamond</td>\n",
       "    </tr>\n",
       "  </tbody>\n",
       "</table>\n",
       "</div>"
      ],
      "text/plain": [
       "         ride_date                                          rider_url  \\\n",
       "trail_id                                                                \n",
       "1-87-dh      Jul 5          https://www.trailforks.com/profile/BCpov/   \n",
       "1-87-dh      Jul 5       https://www.trailforks.com/profile/canadaka/   \n",
       "1-87-dh     May 27   https://www.trailforks.com/profile/campasternak/   \n",
       "1-87-dh     May 21   https://www.trailforks.com/profile/campasternak/   \n",
       "1-87-dh     May 20  https://www.trailforks.com/profile/superlightr...   \n",
       "\n",
       "               rider_name rider_state rider_city  \\\n",
       "trail_id                                           \n",
       "1-87-dh             BCpov          BC     Duncan   \n",
       "1-87-dh          canadaka          BC     Duncan   \n",
       "1-87-dh      campasternak          BC     Duncan   \n",
       "1-87-dh      campasternak          BC     Duncan   \n",
       "1-87-dh   superlightracer          BC     Duncan   \n",
       "\n",
       "                  ride_difficulty_string  \n",
       "trail_id                                  \n",
       "1-87-dh   Very Difficult / Black Diamond  \n",
       "1-87-dh   Very Difficult / Black Diamond  \n",
       "1-87-dh   Very Difficult / Black Diamond  \n",
       "1-87-dh   Very Difficult / Black Diamond  \n",
       "1-87-dh   Very Difficult / Black Diamond  "
      ]
     },
     "execution_count": 66,
     "metadata": {},
     "output_type": "execute_result"
    }
   ],
   "source": [
    "df_ridelogs = pd.read_pickle('/Users/briangraham/insight/trailrec/data/trail_ridelogs_combined.pickle')\n",
    "df_ridelogs_match = ridelogs.join(df_trail,how='right')\n",
    "df_ridelogs_match = df_ridelogs_match[['ride_date','rider_url','rider_name','rider_state','rider_city','ride_difficulty_string']]\n",
    "df_ridelogs_match.head()"
   ]
  },
  {
   "cell_type": "code",
   "execution_count": 67,
   "metadata": {},
   "outputs": [
    {
     "data": {
      "text/plain": [
       "(1266757, 6)"
      ]
     },
     "execution_count": 67,
     "metadata": {},
     "output_type": "execute_result"
    }
   ],
   "source": [
    "df_ridelogs_match.shape"
   ]
  },
  {
   "cell_type": "markdown",
   "metadata": {},
   "source": [
    "# Save to Postgres"
   ]
  },
  {
   "cell_type": "code",
   "execution_count": 68,
   "metadata": {},
   "outputs": [],
   "source": [
    "conn = psycopg2.connect(\"host=localhost dbname=postgres user=postgres\")\n",
    "cur = conn.cursor()"
   ]
  },
  {
   "cell_type": "code",
   "execution_count": null,
   "metadata": {},
   "outputs": [],
   "source": []
  }
 ],
 "metadata": {
  "kernelspec": {
   "display_name": "Python 3",
   "language": "python",
   "name": "python3"
  }
 },
 "nbformat": 4,
 "nbformat_minor": 2
}
