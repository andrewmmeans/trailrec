{
 "cells": [
  {
   "cell_type": "code",
   "execution_count": 3,
   "metadata": {},
   "outputs": [],
   "source": [
    "import numpy as np\n",
    "import pandas as pd\n",
    "import matplotlib.pyplot as plt\n",
    "from sklearn.feature_extraction.text import TfidfVectorizer"
   ]
  },
  {
   "cell_type": "markdown",
   "metadata": {},
   "source": [
    "# Simple Content-Based Recommendation\n",
    "## Trail Description Only"
   ]
  },
  {
   "cell_type": "code",
   "execution_count": 4,
   "metadata": {},
   "outputs": [
    {
     "data": {
      "text/plain": [
       "(3935, 7255)"
      ]
     },
     "execution_count": 4,
     "metadata": {},
     "output_type": "execute_result"
    }
   ],
   "source": [
    "trail_data = pd.read_pickle('/Users/briangraham/insight/trailrec/data/trail_info_combined.pickle')\n",
    "# replace NaN with empty strings ''\n",
    "trail_data['description'] = trail_data['description'].fillna('')\n",
    "trail_data = trail_data.reset_index()\n",
    "#vectorize\n",
    "tfidf = TfidfVectorizer(stop_words='english')\n",
    "tfidf_matrix = tfidf.fit_transform(trail_data['description'])\n",
    "tfidf_matrix.shape"
   ]
  },
  {
   "cell_type": "code",
   "execution_count": 5,
   "metadata": {},
   "outputs": [],
   "source": [
    "from sklearn.metrics.pairwise import linear_kernel\n",
    "# dot product to get cosine sim\n",
    "cosine_sim = linear_kernel(tfidf_matrix, tfidf_matrix)"
   ]
  },
  {
   "cell_type": "code",
   "execution_count": 6,
   "metadata": {},
   "outputs": [],
   "source": [
    "indices = pd.Series(trail_data.index, index=trail_data['trail_id'])"
   ]
  },
  {
   "cell_type": "code",
   "execution_count": 7,
   "metadata": {},
   "outputs": [],
   "source": [
    "def get_recommendations(trail_id,cosine_sim = cosine_sim):\n",
    "    idx = indices[trail_id]\n",
    "    \n",
    "    # Get the pairwsie similarity scores of all trails with that trail\n",
    "    sim_scores = list(enumerate(cosine_sim[idx]))\n",
    "    \n",
    "    # Sort trails using similarity scores\n",
    "    sim_scores = sorted(sim_scores, key=lambda x: x[1], reverse=True)\n",
    "    \n",
    "    # 10 most similar trails\n",
    "    sim_scores = sim_scores[1:11]\n",
    "    \n",
    "    # Get trails\n",
    "    trail_indices = [i[0] for i in sim_scores]\n",
    "    \n",
    "    return trail_data['trail_id'].iloc[trail_indices]    "
   ]
  },
  {
   "cell_type": "code",
   "execution_count": 8,
   "metadata": {},
   "outputs": [
    {
     "data": {
      "text/plain": [
       "2099                memphis\n",
       "877                    dcdh\n",
       "1262    freight-train-upper\n",
       "1015              dreadhead\n",
       "218             barn-burner\n",
       "2437             pale-rider\n",
       "3278                   styx\n",
       "3603        ultimate-frisby\n",
       "2966           section-zero\n",
       "2033                   mach\n",
       "Name: trail_id, dtype: object"
      ]
     },
     "execution_count": 8,
     "metadata": {},
     "output_type": "execute_result"
    }
   ],
   "source": [
    "get_recommendations('1-87-dh',cosine_sim = cosine_sim)"
   ]
  },
  {
   "cell_type": "code",
   "execution_count": 34,
   "metadata": {},
   "outputs": [
    {
     "data": {
      "text/plain": [
       "'Another outstanding Prevost trail that likely played a big role in grooming Steve Smith towards the UCI World Cup DH championship. Steep, fast, twisty, with lots of challenging features multiple drops and booters, a significant  rock drop, lots of roots, off camber sections, and lots of opportunity for spontaneous line creativity. Also often used as an Island Cup DH race course.'"
      ]
     },
     "execution_count": 34,
     "metadata": {},
     "output_type": "execute_result"
    }
   ],
   "source": [
    "trail_data['description'].loc[indices['memphis']]"
   ]
  },
  {
   "cell_type": "code",
   "execution_count": 10,
   "metadata": {},
   "outputs": [
    {
     "data": {
      "text/plain": [
       "'Sustained steep and fast DH trail often used as an Island Cup DH race course. Lots of booters, berms, straightaways, step-ups, step-downs, a steep treed section - a classic island trail.'"
      ]
     },
     "execution_count": 10,
     "metadata": {},
     "output_type": "execute_result"
    }
   ],
   "source": [
    "trail_data['description'].loc[indices['1-87-dh']]"
   ]
  },
  {
   "cell_type": "code",
   "execution_count": 11,
   "metadata": {},
   "outputs": [
    {
     "data": {
      "text/plain": [
       "'This intermediate machine made trail has lots of berms with a step up, step down, and some steep sections. Be sure to pin it on the last berm which is over six feet tall.'"
      ]
     },
     "execution_count": 11,
     "metadata": {},
     "output_type": "execute_result"
    }
   ],
   "source": [
    "trail_data['description'].loc[indices['barn-burner']]"
   ]
  },
  {
   "cell_type": "code",
   "execution_count": 12,
   "metadata": {},
   "outputs": [
    {
     "data": {
      "text/plain": [
       "'Is the islands only DH race in the island series.'"
      ]
     },
     "execution_count": 12,
     "metadata": {},
     "output_type": "execute_result"
    }
   ],
   "source": [
    "trail_data['description'].loc[indices['dcdh']]"
   ]
  },
  {
   "cell_type": "code",
   "execution_count": 45,
   "metadata": {},
   "outputs": [
    {
     "name": "stdout",
     "output_type": "stream",
     "text": [
      "['zoolander', 'met', 'merritt', 'bug', 'merely', 'mercy', 'merchant', 'mequinna', 'menu', 'mentum', 'mental', 'menhinick', 'menhinck', 'memory', 'buildings', 'memorable', 'member', 'melts', 'melt', 'builds', 'mellowed', 'buildup', 'megasaurus', 'megahurts', 'mega', 'meeting', 'bullet', 'bullets', 'mediator', 'medford', 'bump', 'merry', 'metalvery', 'remoteness', 'methanex', 'mixing', 'mixes', 'mixedamongst', 'browny', 'brsa100', 'brushy', 'bs', 'minus', 'btlc', 'ministry', 'btweaked', 'minimalist', 'mindset', 'mindful', 'mindbender', 'min', 'mimic', 'millstream', 'millipede', 'bubbling', 'milks', 'milking', 'milk', 'miles', 'buckethead', 'buddies', 'mic', 'mettle', 'metro', 'bumped', 'bumping', 'meander', 'bunnies', 'marley', 'markle', 'markingthis', 'marker', 'burmed', 'marine', 'marginally', 'marbley', 'marathon', 'mar', 'mapping', 'mapped', 'manyfall', 'manual', 'manpower', 'manouvering', 'manoeuvre', 'manning', 'manner', 'manmade', 'manhandler', 'mangle', 'maneuvers', 'manditory', 'managing', 'manages', 'manager', 'managed', 'burner', 'marmmot', 'marmot', 'married']\n"
     ]
    }
   ],
   "source": [
    "indices = np.argsort(tfidf.idf_)[::-1]\n",
    "features = tfidf.get_feature_names()\n",
    "top_n = 100\n",
    "top_features = [feature_names[i] for i in indices[:top_n]]\n",
    "print(top_features)"
   ]
  },
  {
   "cell_type": "code",
   "execution_count": null,
   "metadata": {},
   "outputs": [],
   "source": []
  },
  {
   "cell_type": "markdown",
   "metadata": {},
   "source": [
    "# Model based on metadata only\n",
    "## has not been edited yet..."
   ]
  },
  {
   "cell_type": "code",
   "execution_count": 13,
   "metadata": {},
   "outputs": [],
   "source": [
    "from sklearn.feature_extraction.text import CountVectorizer\n",
    "from sklearn.metrics.pairwise import cosine_similarity"
   ]
  },
  {
   "cell_type": "code",
   "execution_count": 14,
   "metadata": {},
   "outputs": [],
   "source": [
    "count = CountVectorizer(stop_words='english')\n",
    "count_matrix = count.fit_transform(trail_data['description'])\n",
    "cosine_sim2 = cosine_similarity(count_matrix, count_matrix)"
   ]
  },
  {
   "cell_type": "code",
   "execution_count": 15,
   "metadata": {},
   "outputs": [
    {
     "data": {
      "text/plain": [
       "2099              memphis\n",
       "218           barn-burner\n",
       "2966         section-zero\n",
       "2347           numbskulls\n",
       "3603      ultimate-frisby\n",
       "877                  dcdh\n",
       "1018        drifter-41753\n",
       "665               choices\n",
       "541     byrne-creek-trail\n",
       "3278                 styx\n",
       "Name: trail_id, dtype: object"
      ]
     },
     "execution_count": 15,
     "metadata": {},
     "output_type": "execute_result"
    }
   ],
   "source": [
    "get_recommendations('1-87-dh', cosine_sim2)"
   ]
  },
  {
   "cell_type": "code",
   "execution_count": 28,
   "metadata": {},
   "outputs": [],
   "source": [
    "def top_mean_feats(Xtr, features, grp_ids=None, min_tfidf=0.1, top_n=25):\n",
    "    ''' Return the top n features that on average are most important amongst documents in rows\n",
    "        indentified by indices in grp_ids. '''\n",
    "    if grp_ids:\n",
    "        D = Xtr[grp_ids].toarray()\n",
    "    else:\n",
    "        D = Xtr.toarray()\n",
    "\n",
    "    D[D < min_tfidf] = 0\n",
    "    tfidf_means = np.mean(D, axis=0)\n",
    "    return top_tfidf_feats(tfidf_means, features, top_n)"
   ]
  },
  {
   "cell_type": "code",
   "execution_count": null,
   "metadata": {},
   "outputs": [],
   "source": []
  }
 ],
 "metadata": {
  "kernelspec": {
   "display_name": "Python 3",
   "language": "python",
   "name": "python3"
  },
  "language_info": {
   "codemirror_mode": {
    "name": "ipython",
    "version": 3
   },
   "file_extension": ".py",
   "mimetype": "text/x-python",
   "name": "python",
   "nbconvert_exporter": "python",
   "pygments_lexer": "ipython3",
   "version": "3.7.0"
  }
 },
 "nbformat": 4,
 "nbformat_minor": 2
}
