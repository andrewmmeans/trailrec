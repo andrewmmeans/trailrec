{
 "cells": [
  {
   "cell_type": "code",
   "execution_count": 1,
   "metadata": {},
   "outputs": [],
   "source": [
    "import numpy as np\n",
    "import pandas as pd\n",
    "import matplotlib.pyplot as plt\n",
    "from sklearn.feature_extraction.text import TfidfVectorizer"
   ]
  },
  {
   "cell_type": "markdown",
   "metadata": {},
   "source": [
    "# Simple Content-Based Recommendation\n",
    "## Trail Description Only"
   ]
  },
  {
   "cell_type": "code",
   "execution_count": 31,
   "metadata": {},
   "outputs": [
    {
     "data": {
      "text/plain": [
       "(3935, 7255)"
      ]
     },
     "execution_count": 31,
     "metadata": {},
     "output_type": "execute_result"
    }
   ],
   "source": [
    "trail_data = pd.read_pickle('/Users/briangraham/insight/trailrec/data/trail_info_combined.pickle')\n",
    "# replace NaN with empty strings ''\n",
    "trail_data['description'] = trail_data['description'].fillna('')\n",
    "trail_data = trail_data.reset_index()\n",
    "#vectorize\n",
    "tfidf = TfidfVectorizer(stop_words='english')\n",
    "tfidf_matrix = tfidf.fit_transform(trail_data['description'])\n",
    "tfidf_matrix.shape"
   ]
  },
  {
   "cell_type": "code",
   "execution_count": 32,
   "metadata": {},
   "outputs": [],
   "source": [
    "from sklearn.metrics.pairwise import linear_kernel\n",
    "# dot product to get cosine sim\n",
    "cosine_sim = linear_kernel(tfidf_matrix, tfidf_matrix)"
   ]
  },
  {
   "cell_type": "code",
   "execution_count": 38,
   "metadata": {},
   "outputs": [],
   "source": [
    "indices = pd.Series(trail_data.index, index=trail_data['trail_id'])"
   ]
  },
  {
   "cell_type": "code",
   "execution_count": 45,
   "metadata": {},
   "outputs": [],
   "source": [
    "def get_recommendations(trail_id,cosine_sim = cosine_sim):\n",
    "    idx = indices[trail_id]\n",
    "    \n",
    "    # Get the pairwsie similarity scores of all trails with that trail\n",
    "    sim_scores = list(enumerate(cosine_sim[idx]))\n",
    "    \n",
    "    # Sort trails using similarity scores\n",
    "    sim_scores = sorted(sim_scores, key=lambda x: x[1], reverse=True)\n",
    "    \n",
    "    # 10 most similar trails\n",
    "    sim_scores = sim_scores[1:11]\n",
    "    \n",
    "    # Get trails\n",
    "    trail_indices = [i[0] for i in sim_scores]\n",
    "    \n",
    "    return trail_data['trail_id'].iloc[trail_indices]    "
   ]
  },
  {
   "cell_type": "code",
   "execution_count": 46,
   "metadata": {},
   "outputs": [
    {
     "data": {
      "text/plain": [
       "2099                memphis\n",
       "877                    dcdh\n",
       "1262    freight-train-upper\n",
       "1015              dreadhead\n",
       "218             barn-burner\n",
       "2437             pale-rider\n",
       "3278                   styx\n",
       "3603        ultimate-frisby\n",
       "2966           section-zero\n",
       "2033                   mach\n",
       "Name: trail_id, dtype: object"
      ]
     },
     "execution_count": 46,
     "metadata": {},
     "output_type": "execute_result"
    }
   ],
   "source": [
    "get_recommendations('1-87-dh',cosine_sim = cosine_sim)"
   ]
  },
  {
   "cell_type": "code",
   "execution_count": 139,
   "metadata": {},
   "outputs": [
    {
     "data": {
      "text/plain": [
       "'Another outstanding Prevost trail that likely played a big role in grooming Steve Smith towards the UCI World Cup DH championship. Steep, fast, twisty, with lots of challenging features multiple drops and booters, a significant  rock drop, lots of roots, off camber sections, and lots of opportunity for spontaneous line creativity. Also often used as an Island Cup DH race course.'"
      ]
     },
     "execution_count": 139,
     "metadata": {},
     "output_type": "execute_result"
    }
   ],
   "source": [
    "trail_data['description'].loc[indices['memphis']]"
   ]
  },
  {
   "cell_type": "code",
   "execution_count": 140,
   "metadata": {},
   "outputs": [
    {
     "data": {
      "text/plain": [
       "'Sustained steep and fast DH trail often used as an Island Cup DH race course. Lots of booters, berms, straightaways, step-ups, step-downs, a steep treed section - a classic island trail.'"
      ]
     },
     "execution_count": 140,
     "metadata": {},
     "output_type": "execute_result"
    }
   ],
   "source": [
    "trail_data['description'].loc[indices['1-87-dh']]"
   ]
  },
  {
   "cell_type": "code",
   "execution_count": 141,
   "metadata": {},
   "outputs": [
    {
     "data": {
      "text/plain": [
       "'This intermediate machine made trail has lots of berms with a step up, step down, and some steep sections. Be sure to pin it on the last berm which is over six feet tall.'"
      ]
     },
     "execution_count": 141,
     "metadata": {},
     "output_type": "execute_result"
    }
   ],
   "source": [
    "trail_data['description'].loc[indices['barn-burner']]"
   ]
  },
  {
   "cell_type": "code",
   "execution_count": 142,
   "metadata": {},
   "outputs": [
    {
     "data": {
      "text/plain": [
       "'Is the islands only DH race in the island series.'"
      ]
     },
     "execution_count": 142,
     "metadata": {},
     "output_type": "execute_result"
    }
   ],
   "source": [
    "trail_data['description'].loc[indices['dcdh']]"
   ]
  },
  {
   "cell_type": "markdown",
   "metadata": {},
   "source": [
    "# Model based on metadata only"
   ]
  },
  {
   "cell_type": "code",
   "execution_count": 146,
   "metadata": {},
   "outputs": [],
   "source": [
    "from sklearn.feature_extraction.text import CountVectorizer\n",
    "from sklearn.metrics.pairwise import cosine_similarity"
   ]
  },
  {
   "cell_type": "code",
   "execution_count": 147,
   "metadata": {},
   "outputs": [],
   "source": [
    "count = CountVectorizer(stop_words='english')\n",
    "count_matrix = count.fit_transform(trail_data['description'])\n",
    "cosine_sim2 = cosine_similarity(count_matrix, count_matrix)"
   ]
  },
  {
   "cell_type": "code",
   "execution_count": 150,
   "metadata": {},
   "outputs": [
    {
     "data": {
      "text/plain": [
       "2099              memphis\n",
       "218           barn-burner\n",
       "2966         section-zero\n",
       "2347           numbskulls\n",
       "3603      ultimate-frisby\n",
       "877                  dcdh\n",
       "1018        drifter-41753\n",
       "665               choices\n",
       "541     byrne-creek-trail\n",
       "3278                 styx\n",
       "Name: trail_id, dtype: object"
      ]
     },
     "execution_count": 150,
     "metadata": {},
     "output_type": "execute_result"
    }
   ],
   "source": [
    "get_recommendations('1-87-dh', cosine_sim2)"
   ]
  },
  {
   "cell_type": "code",
   "execution_count": null,
   "metadata": {},
   "outputs": [],
   "source": []
  }
 ],
 "metadata": {
  "kernelspec": {
   "display_name": "Python 3",
   "language": "python",
   "name": "python3"
  },
  "language_info": {
   "codemirror_mode": {
    "name": "ipython",
    "version": 3
   },
   "file_extension": ".py",
   "mimetype": "text/x-python",
   "name": "python",
   "nbconvert_exporter": "python",
   "pygments_lexer": "ipython3",
   "version": "3.7.0"
  }
 },
 "nbformat": 4,
 "nbformat_minor": 2
}
