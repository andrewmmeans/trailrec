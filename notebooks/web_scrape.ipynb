{
 "cells": [
  {
   "cell_type": "code",
   "execution_count": 296,
   "metadata": {},
   "outputs": [],
   "source": [
    "import numpy as np\n",
    "import pandas as pd\n",
    "from bs4 import BeautifulSoup\n",
    "from requests import get\n",
    "import re"
   ]
  },
  {
   "cell_type": "code",
   "execution_count": 146,
   "metadata": {},
   "outputs": [],
   "source": [
    "trail_page = 'https://www.trailforks.com/trails/verboten/'"
   ]
  },
  {
   "cell_type": "code",
   "execution_count": 149,
   "metadata": {},
   "outputs": [],
   "source": [
    "page = get(trail_page)\n",
    "soup = BeautifulSoup(page.content, 'html.parser')"
   ]
  },
  {
   "cell_type": "code",
   "execution_count": null,
   "metadata": {},
   "outputs": [],
   "source": [
    "Trail"
   ]
  },
  {
   "cell_type": "code",
   "execution_count": 169,
   "metadata": {},
   "outputs": [
    {
     "name": "stdout",
     "output_type": "stream",
     "text": [
      "1 miles\n",
      "59 ft\n",
      "-935 ft\n",
      "00:15:05\n"
     ]
    }
   ],
   "source": [
    "# get basic trail stats\n",
    "basic_box = soup.find('div',id=\"basicTrailStats\")\n",
    "basic_cols = basic_box.find_all('div',class_='large')\n",
    "basic_trail_stats ={}\n",
    "distance = basic_cols[0].text\n",
    "climb = basic_cols[1].text\n",
    "descent = basic_cols[2].text\n",
    "avg_time = basic_cols[3].text\n",
    "print(distance,climb,descent,avg_time,sep='\\n')"
   ]
  },
  {
   "cell_type": "code",
   "execution_count": 170,
   "metadata": {},
   "outputs": [
    {
     "name": "stdout",
     "output_type": "stream",
     "text": [
      "Avg: 5\n",
      "15 votes\n"
     ]
    }
   ],
   "source": [
    "# get rating and number of votes\n",
    "rating_box = soup.find('div',class_='star-rating readonly')\n",
    "rating = rating_box.find('span',class_='result').text\n",
    "votes = rating_box.find('span',class_='votesLink underline grey clickable').text\n",
    "print(rating,votes,sep='\\n')"
   ]
  },
  {
   "cell_type": "code",
   "execution_count": 308,
   "metadata": {},
   "outputs": [],
   "source": [
    "# get trail details\n",
    "details_box = soup.find('ul',id='traildetails_display').find_all('li')\n",
    "ride_area = details_box[0].find('div',class_='definition').a.text\n",
    "diff_rate = details_box[1].find('div',class_='definition diffratingvoteLink').get_text(strip=True).replace('rate', '')\n",
    "trail_type = details_box[2].find('div',class_='definition').get_text(strip=True)\n",
    "trail_use = details_box[3].find('div',class_='definition').get_text(strip=True)\n",
    "\n"
   ]
  },
  {
   "cell_type": "code",
   "execution_count": 309,
   "metadata": {},
   "outputs": [
    {
     "data": {
      "text/plain": [
       "'Biking Primary'"
      ]
     },
     "execution_count": 309,
     "metadata": {},
     "output_type": "execute_result"
    }
   ],
   "source": [
    "trail_use\n",
    "\n"
   ]
  },
  {
   "cell_type": "code",
   "execution_count": 198,
   "metadata": {},
   "outputs": [
    {
     "data": {
      "text/plain": [
       "'\\nDifficulty rating\\n\\n                Black Diamond  rate\\n\\n'"
      ]
     },
     "execution_count": 198,
     "metadata": {},
     "output_type": "execute_result"
    }
   ],
   "source": []
  },
  {
   "cell_type": "code",
   "execution_count": null,
   "metadata": {},
   "outputs": [],
   "source": []
  }
 ],
 "metadata": {
  "kernelspec": {
   "display_name": "Python 3",
   "language": "python",
   "name": "python3"
  },
  "language_info": {
   "codemirror_mode": {
    "name": "ipython",
    "version": 3
   },
   "file_extension": ".py",
   "mimetype": "text/x-python",
   "name": "python",
   "nbconvert_exporter": "python",
   "pygments_lexer": "ipython3",
   "version": "3.7.0"
  }
 },
 "nbformat": 4,
 "nbformat_minor": 2
}
